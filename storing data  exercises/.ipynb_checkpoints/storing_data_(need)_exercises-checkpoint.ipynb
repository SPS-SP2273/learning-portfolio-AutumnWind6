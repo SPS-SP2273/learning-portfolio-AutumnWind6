{
 "cells": [
  {
   "attachments": {},
   "cell_type": "markdown",
   "id": "123456",
   "metadata": {},
   "source": [
    "<div style=\"text-align:left;font-size:2em\"><span style=\"font-weight:bolder;font-size:1.25em\">SP2273 | Learning Portfolio</span><br><br><span style=\"font-weight:bold;color:darkred\">Storing Data (Need) Exercises</span></div>"
   ]
  },
  {
   "cell_type": "markdown",
   "id": "afe94fdc-c130-4f0d-b7c0-ec92589f1e01",
   "metadata": {},
   "source": [
    "Exercise 1 (total recall?):\n",
    "\n",
    "1. Two similarities between lists and arrays\n",
    "\n",
    "Similarity 1:\n",
    "Both allow you to store multiple items in a single variable.\n",
    "\n",
    "Similarity 2:\n",
    "Mathematical functions can be applied to both lists and arrays (although the effects of the same line of code may be different)\n",
    "\n",
    "3. Two differences between lists and arrays\n",
    "\n",
    "Difference 1:\n",
    "Lists accept multiple types(e.g. numbers, strings) for elements in a single list. However, the element type in an array must be standardised to jsut one type.\n",
    "\n",
    "Difference 2:\n",
    "Lists are a built-in data type in Python while arrays are not built into Python. They require an external package such as `Numpy`.\n",
    "\n",
    "4. What is a dictionary?\n",
    "\n",
    "It stores values with keys assigned to each individual value. Differs from 2D lists as it requires calling the key for a specific value, while for 2D lists just need to call the specific element through indexing e.g. 2D_list[0][1] and not through a key-value pairing.\n"
   ]
  },
  {
   "cell_type": "markdown",
   "id": "dcb7b4e4-e818-40af-b484-6e15772eae47",
   "metadata": {},
   "source": [
    "Exercise 2 (Indexing):\n",
    "\n",
    "Modify the following code to print out all elements with an odd number. I have done the one corresponding to i9 for you.\n",
    "\n",
    "py_list = [\"a1\", \"b2\", \"c3\", \"d4\", \"e5\", \"f6\", \"g7\", \"h8\", \"i9\", \"j10\"]\r\n",
    "                    # Prints 'a1'\r\n",
    "                    # Prints 'c3'\r\n",
    "                    # Prints 'e5'\r\n",
    "                    # Prints 'g7'\r\n",
    "print(py_list[8])   # Prints 'i9'"
   ]
  },
  {
   "cell_type": "code",
   "execution_count": 3,
   "id": "70fa95b2-8cbb-4000-b55e-270689097081",
   "metadata": {},
   "outputs": [
    {
     "name": "stdout",
     "output_type": "stream",
     "text": [
      "a1\n",
      "c3\n",
      "e5\n",
      "g7\n",
      "i9\n"
     ]
    }
   ],
   "source": [
    "py_list = [\"a1\", \"b2\", \"c3\", \"d4\", \"e5\", \"f6\", \"g7\", \"h8\", \"i9\", \"j10\"]\n",
    "print(py_list[0])   # Prints 'a1'\n",
    "print(py_list[2])   # Prints 'c3'\n",
    "print(py_list[4])   # Prints 'e5'\n",
    "print(py_list[6])   # Prints 'g7'\n",
    "print(py_list[8])   # Prints 'i9'"
   ]
  },
  {
   "cell_type": "code",
   "execution_count": 7,
   "id": "bc26bc4e-8256-4004-afcc-8ec2f674f967",
   "metadata": {},
   "outputs": [
    {
     "name": "stdout",
     "output_type": "stream",
     "text": [
      "a1\n",
      "c3\n",
      "e5\n",
      "g7\n",
      "i9\n"
     ]
    }
   ],
   "source": [
    "#alternative\n",
    "\n",
    "for item in py_list:\n",
    "    num = int(item[-1])  #extracts last digit of the number\n",
    "    if num%2 != 0:       #checks if odd number\n",
    "        print(item)"
   ]
  },
  {
   "cell_type": "markdown",
   "id": "64e4aca1-58cc-4198-8f4f-5603266e46bb",
   "metadata": {},
   "source": [
    "Exercise 3 (Index again):"
   ]
  },
  {
   "cell_type": "code",
   "execution_count": 2,
   "id": "bd1b99af-4f88-4496-9a3c-86fb18860998",
   "metadata": {},
   "outputs": [],
   "source": [
    "elements = ['Hydrogen',\n",
    "            'Helium', 'Lithium',\n",
    "            'Beryllium', 'Boron', 'Carbon',\n",
    "            'Nitrogen', 'Oxygen',\n",
    "            'Fluorine',\n",
    "            'Neon']"
   ]
  },
  {
   "cell_type": "code",
   "execution_count": 3,
   "id": "5f83fbfe-a6a7-439d-bb79-e065ec6e86a0",
   "metadata": {},
   "outputs": [
    {
     "name": "stdout",
     "output_type": "stream",
     "text": [
      "Boron\n",
      "Boron\n"
     ]
    }
   ],
   "source": [
    "#Access and print the element at index 4 using forward indexing.\n",
    "\n",
    "print(elements[4])\n",
    "\n",
    "#Access and print the element at index 4 from the end of the list using reverse indexing.\n",
    "\n",
    "print(elements[-6])"
   ]
  },
  {
   "cell_type": "markdown",
   "id": "fc81b680-2ca0-4800-add7-b85822a36b6a",
   "metadata": {},
   "source": [
    "Exercise 4 (How many ones):\n",
    "\n",
    "Use the concepts you learned in this chapter to determine the number of 1’s in the following list of numbers."
   ]
  },
  {
   "cell_type": "code",
   "execution_count": 13,
   "id": "271e3db3-686d-4018-b7e7-b687a7223803",
   "metadata": {},
   "outputs": [],
   "source": [
    "numbers=[45, 60, 1, 30, 96, 1, 96, 57, 16, 1,\n",
    "        99, 62, 86, 43, 42, 60, 59, 1, 1, 35,\n",
    "        83, 47, 34, 28, 68, 23, 22, 92, 1, 79,\n",
    "        1, 29, 94, 72, 46, 47, 1, 74, 32, 20,\n",
    "        8, 37, 35, 1, 89, 29, 86, 19, 43, 61]                  "
   ]
  },
  {
   "cell_type": "code",
   "execution_count": 24,
   "id": "cd6adc2a-a243-4aa7-9c58-ad40e80d9a42",
   "metadata": {},
   "outputs": [
    {
     "name": "stdout",
     "output_type": "stream",
     "text": [
      "9\n"
     ]
    }
   ],
   "source": [
    "num_of_1 = 0\n",
    "\n",
    "for num in numbers:\n",
    "    if num == 1:\n",
    "        num_of_1 += 1\n",
    "\n",
    "print(num_of_1)"
   ]
  },
  {
   "cell_type": "code",
   "execution_count": 26,
   "id": "794422b7-d033-4486-8153-dd823b3e8af9",
   "metadata": {},
   "outputs": [
    {
     "name": "stdout",
     "output_type": "stream",
     "text": [
      "9\n"
     ]
    }
   ],
   "source": [
    "#alternative\n",
    "\n",
    "import numpy as np\n",
    "\n",
    "np_numbers = np.array(numbers)\n",
    "np_num = (np_numbers == 1)\n",
    "num_of_1 = np_num.sum()\n",
    "print(num_of_1)"
   ]
  }
 ],
 "metadata": {
  "kernelspec": {
   "display_name": "Python 3 (ipykernel)",
   "language": "python",
   "name": "python3"
  },
  "language_info": {
   "codemirror_mode": {
    "name": "ipython",
    "version": 3
   },
   "file_extension": ".py",
   "mimetype": "text/x-python",
   "name": "python",
   "nbconvert_exporter": "python",
   "pygments_lexer": "ipython3",
   "version": "3.11.5"
  },
  "toc": {
   "base_numbering": 1,
   "nav_menu": {},
   "number_sections": true,
   "sideBar": true,
   "skip_h1_title": false,
   "title_cell": "Table of Contents",
   "title_sidebar": "Contents",
   "toc_cell": false,
   "toc_position": {},
   "toc_section_display": true,
   "toc_window_display": false
  },
  "vscode": {
   "interpreter": {
    "hash": "31f2aee4e71d21fbe5cf8b01ff0e069b9275f58929596ceb00d14d90e3e16cd6"
   }
  }
 },
 "nbformat": 4,
 "nbformat_minor": 5
}
