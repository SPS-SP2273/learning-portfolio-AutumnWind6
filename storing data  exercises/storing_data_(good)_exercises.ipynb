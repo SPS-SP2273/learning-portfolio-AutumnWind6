{
 "cells": [
  {
   "attachments": {},
   "cell_type": "markdown",
   "id": "123456",
   "metadata": {},
   "source": [
    "<div style=\"text-align:left;font-size:2em\"><span style=\"font-weight:bolder;font-size:1.25em\">SP2273 | Learning Portfolio</span><br><br><span style=\"font-weight:bold;color:darkred\">Storing Data (Good) Exercises</span></div>"
   ]
  },
  {
   "cell_type": "markdown",
   "id": "746e9b55-ec38-4ccf-b3f3-3a1ccf8ee42a",
   "metadata": {},
   "source": [
    "Exercise 1 (Total recall):\n",
    "\n",
    "|Term|\tBrief description|\n",
    "|:---|:---|\n",
    "|Subsetting| *Select data from list (either by indexing or slicing)*|\n",
    "|Indexing| Select one element of the list|\n",
    "|Slicing| Select a range of elements from the list|\n",
    "|Masking| Creates a new true false list based on selected elements of reference list |"
   ]
  },
  {
   "cell_type": "markdown",
   "id": "0dd82a3f-d023-47d8-a72f-761d155416bd",
   "metadata": {},
   "source": [
    "Exercise 2 (Show me the ‘odd’ letters):\n",
    "\n",
    "Use masking to subset the letters that correspond to the odd numbers."
   ]
  },
  {
   "cell_type": "code",
   "execution_count": 2,
   "id": "e5c433c1-b8e2-4009-b1eb-14304afa32e3",
   "metadata": {},
   "outputs": [],
   "source": [
    "import numpy as np\n",
    "\n",
    "np_array_2d = np.array([[1, \"A\"], [3, \"C\"], [2, \"B\"], [4, \"D\"],\n",
    "                        [5, \"E\"], [7, \"G\"], [6, \"F\"], [8, \"H\"],\n",
    "                        [10, \"J\"], [9, \"I\"]])"
   ]
  },
  {
   "cell_type": "code",
   "execution_count": 14,
   "id": "cdc6589b-8b60-4452-a413-c4f45d220606",
   "metadata": {},
   "outputs": [
    {
     "data": {
      "text/plain": [
       "['A', 'C', 'E', 'G', 'I']"
      ]
     },
     "execution_count": 14,
     "metadata": {},
     "output_type": "execute_result"
    }
   ],
   "source": [
    "result = []\n",
    "\n",
    "for array_1d in np_array_2d:\n",
    "    num = int(array_1d[0])\n",
    "    #print(num)\n",
    "    if num % 2 != 0:\n",
    "        result.append(array_1d[1])\n",
    "        #print('Hi')\n",
    "\n",
    "result"
   ]
  },
  {
   "cell_type": "code",
   "execution_count": 4,
   "id": "37937ade-3873-4b53-acb0-38be3b591e02",
   "metadata": {},
   "outputs": [
    {
     "name": "stdout",
     "output_type": "stream",
     "text": [
      "['A' 'C' 'E' 'G' 'I']\n"
     ]
    }
   ],
   "source": [
    "#alternative (recommended solution)\n",
    "\n",
    "subset_1 = np_array_2d [:,0]\n",
    "subset_int = subset_1.astype(int)\n",
    "subset_r = subset_int % 2\n",
    "mask = (subset_r != 0)\n",
    "\n",
    "result = np_array_2d[mask,1]\n",
    "print(result)"
   ]
  }
 ],
 "metadata": {
  "kernelspec": {
   "display_name": "Python 3 (ipykernel)",
   "language": "python",
   "name": "python3"
  },
  "language_info": {
   "codemirror_mode": {
    "name": "ipython",
    "version": 3
   },
   "file_extension": ".py",
   "mimetype": "text/x-python",
   "name": "python",
   "nbconvert_exporter": "python",
   "pygments_lexer": "ipython3",
   "version": "3.11.5"
  },
  "toc": {
   "base_numbering": 1,
   "nav_menu": {},
   "number_sections": true,
   "sideBar": true,
   "skip_h1_title": false,
   "title_cell": "Table of Contents",
   "title_sidebar": "Contents",
   "toc_cell": false,
   "toc_position": {},
   "toc_section_display": true,
   "toc_window_display": false
  },
  "vscode": {
   "interpreter": {
    "hash": "31f2aee4e71d21fbe5cf8b01ff0e069b9275f58929596ceb00d14d90e3e16cd6"
   }
  }
 },
 "nbformat": 4,
 "nbformat_minor": 5
}
