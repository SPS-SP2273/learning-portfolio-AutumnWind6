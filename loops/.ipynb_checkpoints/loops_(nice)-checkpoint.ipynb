{
 "cells": [
  {
   "attachments": {},
   "cell_type": "markdown",
   "id": "123456",
   "metadata": {},
   "source": [
    "<div style=\"text-align:left;font-size:2em\"><span style=\"font-weight:bolder;font-size:1.25em\">SP2273 | Learning Portfolio</span><br><br><span style=\"font-weight:bold;color:darkred\">Loops (Nice)</span></div>"
   ]
  },
  {
   "attachments": {},
   "cell_type": "markdown",
   "id": "a5a8ad9c",
   "metadata": {},
   "source": [
    "# 1 There is more to list comprehension"
   ]
  },
  {
   "cell_type": "code",
   "execution_count": 2,
   "id": "e7ceab9b-3912-4eae-853e-0dbcd04cbee3",
   "metadata": {},
   "outputs": [
    {
     "data": {
      "text/plain": [
       "[[0, 'A'],\n",
       " [0, 'B'],\n",
       " [0, 'C'],\n",
       " [1, 'A'],\n",
       " [1, 'B'],\n",
       " [1, 'C'],\n",
       " [2, 'A'],\n",
       " [2, 'B'],\n",
       " [2, 'C'],\n",
       " [3, 'A'],\n",
       " [3, 'B'],\n",
       " [3, 'C'],\n",
       " [4, 'A'],\n",
       " [4, 'B'],\n",
       " [4, 'C']]"
      ]
     },
     "execution_count": 2,
     "metadata": {},
     "output_type": "execute_result"
    }
   ],
   "source": [
    "#multiple loops in a list comprehension\n",
    "[[a,b] for a in range(5) for b in ['A', 'B', 'C']]"
   ]
  },
  {
   "cell_type": "code",
   "execution_count": 4,
   "id": "b0c55e8d-a48b-4073-8aaf-67ba2bd8ad64",
   "metadata": {},
   "outputs": [
    {
     "data": {
      "text/plain": [
       "[[1, 'A'], [1, 'B'], [1, 'C'], [3, 'A'], [3, 'B'], [3, 'C']]"
      ]
     },
     "execution_count": 4,
     "metadata": {},
     "output_type": "execute_result"
    }
   ],
   "source": [
    "#inclusion of condition\n",
    "[[a,b] for a in range(5) for b in ['A', 'B', 'C'] if a % 2 != 0]"
   ]
  },
  {
   "cell_type": "code",
   "execution_count": 7,
   "id": "2a1b4433-b275-44df-ad62-d0dc69a98ebd",
   "metadata": {},
   "outputs": [
    {
     "data": {
      "text/plain": [
       "[1, 2, 3, 4, 5, 6, 7]"
      ]
     },
     "execution_count": 7,
     "metadata": {},
     "output_type": "execute_result"
    }
   ],
   "source": [
    "# flatten list method 1\n",
    "nested_list=[[1, 2, 3], [4, 5, 6, 7]]\n",
    "[y for x in nested_list for y in x]"
   ]
  },
  {
   "cell_type": "code",
   "execution_count": 11,
   "id": "d2342c41-5881-4a7a-8e5a-defe0d5a1831",
   "metadata": {},
   "outputs": [
    {
     "data": {
      "text/plain": [
       "[1, 2, 3, 4, 5, 6, 7]"
      ]
     },
     "execution_count": 11,
     "metadata": {},
     "output_type": "execute_result"
    }
   ],
   "source": [
    "#flatten list method 2\n",
    "\n",
    "nested_list=[[1, 2, 3], [4, 5, 6, 7]]\n",
    "\n",
    "output =[]\n",
    "for x in nested_list:\n",
    "    for y in x:\n",
    "        output.append(y)\n",
    "\n",
    "output"
   ]
  },
  {
   "attachments": {},
   "cell_type": "markdown",
   "id": "a87b8c1d",
   "metadata": {},
   "source": [
    "# 2 Zipping a dictionary"
   ]
  },
  {
   "cell_type": "markdown",
   "id": "bcc2add6-7bb9-4719-b50f-1c1f83cb4899",
   "metadata": {},
   "source": [
    "`zip()` combines 2 lists into a dictionary\n",
    "\n",
    "`dict()` is used to recast `zip()` output into a dictionary"
   ]
  },
  {
   "cell_type": "code",
   "execution_count": 12,
   "id": "76490353-9dee-4587-8473-42b46009a21b",
   "metadata": {},
   "outputs": [
    {
     "data": {
      "text/plain": [
       "{'Natasha Romanoff': 'Black Widow',\n",
       " 'Tony Stark': 'Iron Man',\n",
       " 'Stephen Strange': 'Doctor Strange'}"
      ]
     },
     "execution_count": 12,
     "metadata": {},
     "output_type": "execute_result"
    }
   ],
   "source": [
    "super_names=[\"Black Widow\", \"Iron Man\", \"Doctor Strange\"]\n",
    "real_names=[\"Natasha Romanoff\", \"Tony Stark\", \"Stephen Strange\"]\n",
    "\n",
    "dict(zip(real_names, super_names))"
   ]
  },
  {
   "attachments": {},
   "cell_type": "markdown",
   "id": "947f0e6f",
   "metadata": {},
   "source": [
    "# 3 for and while has an else"
   ]
  },
  {
   "cell_type": "code",
   "execution_count": 14,
   "id": "b6ca8745-dc9d-4311-aed2-edb4d8429253",
   "metadata": {},
   "outputs": [
    {
     "name": "stdout",
     "output_type": "stream",
     "text": [
      "No negative numbers in the list\n"
     ]
    }
   ],
   "source": [
    "numbers=[0, 1, 2, 3, 4, 5, 6, 7, 8, 9]\n",
    "\n",
    "for i in numbers:\n",
    "    if i < 0: break\n",
    "else:\n",
    "    print('No negative numbers in the list')"
   ]
  },
  {
   "attachments": {},
   "cell_type": "markdown",
   "id": "24c8f860",
   "metadata": {},
   "source": [
    "# Exercises"
   ]
  },
  {
   "cell_type": "code",
   "execution_count": 28,
   "id": "a4af10c0",
   "metadata": {},
   "outputs": [
    {
     "name": "stdout",
     "output_type": "stream",
     "text": [
      "apple a\n",
      "banana b\n",
      "jackfruit j\n",
      "pineapple p\n",
      "watermelons w\n",
      "peaches p\n",
      "mangoes m\n",
      "strawberries s\n",
      "passionfruit p\n"
     ]
    },
    {
     "data": {
      "text/plain": [
       "['apple',\n",
       " 'banana',\n",
       " 'jackfruit',\n",
       " 'watermelons',\n",
       " 'durian',\n",
       " 'mangoes',\n",
       " 'strawberries']"
      ]
     },
     "execution_count": 28,
     "metadata": {},
     "output_type": "execute_result"
    }
   ],
   "source": [
    "fruits = [\"apple\", \"banana\", \"jackfruit\",\n",
    "          \"pineapple\", \"papaya\", \"watermelons\",\n",
    "          \"peaches\", \"durian\",  \"mangoes\",\n",
    "          \"strawberries\", \"passionfruit\"\n",
    "          ]\n",
    "'''\n",
    "for fruit in fruits:\n",
    "    if fruit[0] == \"p\":\n",
    "        fruits.remove(fruit)\n",
    "'''\n",
    "# to observe the error\n",
    "for fruit in fruits:\n",
    "    print (fruit, fruit[0])\n",
    "    if fruit[0] == \"p\":\n",
    "        fruits.remove(fruit)\n",
    "\n",
    "# Your solution here\n",
    "fruits_ori = fruits.copy()\n",
    "\n",
    "for fruit in fruits_ori:\n",
    "    if fruit[0] == \"p\":\n",
    "        fruits.remove(fruit)\n",
    "    \n",
    "#alternate version\n",
    "fruits = [\"apple\", \"banana\", \"jackfruit\",\n",
    "          \"pineapple\", \"papaya\", \"watermelons\",\n",
    "          \"peaches\", \"durian\",  \"mangoes\",\n",
    "          \"strawberries\", \"passionfruit\"\n",
    "          ]\n",
    "\n",
    "[fruit for fruit in fruits if fruit[0] != \"p\"]\n"
   ]
  },
  {
   "attachments": {},
   "cell_type": "markdown",
   "id": "2cd9c15b",
   "metadata": {},
   "source": [
    "### An explantion"
   ]
  },
  {
   "cell_type": "code",
   "execution_count": 46,
   "id": "a01228bc",
   "metadata": {},
   "outputs": [
    {
     "data": {
      "text/plain": [
       "[[1, 1, 1], [2, 4, 8], [3, 9, 27], [4, 16, 64], [5, 25, 125]]"
      ]
     },
     "execution_count": 46,
     "metadata": {},
     "output_type": "execute_result"
    }
   ],
   "source": [
    "'''problem code\n",
    "maximum_n = 5\n",
    "result = [[]] * maximum_n --> causes duplicates, same empty list\n",
    "\n",
    "for n in range(1, maximum_n + 1):\n",
    "    result[n - 1].append(n)\n",
    "    result[n - 1].append(n**2)\n",
    "    result[n - 1].append(n**3)\n",
    "\n",
    "every iteration of the loops adds the values to all lists\n",
    "'''\n",
    "# Your code here\n",
    "maximum_n = 5\n",
    "result = []\n",
    "for n in range(1, maximum_n + 1):\n",
    "    nested_list = [n]\n",
    "    nested_list.append(n**2)\n",
    "    nested_list.append(n**3)\n",
    "    result.append(nested_list)\n",
    "\n",
    "result"
   ]
  },
  {
   "cell_type": "code",
   "execution_count": 48,
   "id": "23e24e32-a4ea-4ca6-a403-4b4497b46425",
   "metadata": {},
   "outputs": [
    {
     "data": {
      "text/plain": [
       "[[1, 1, 1], [2, 4, 8], [3, 9, 27], [4, 16, 64], [5, 25, 125]]"
      ]
     },
     "execution_count": 48,
     "metadata": {},
     "output_type": "execute_result"
    }
   ],
   "source": [
    "#alternative solution\n",
    "maximum_n = 5\n",
    "# result = [[]] * maximum_n\n",
    "result = [[] for _ in range(maximum_n)]\n",
    "\n",
    "for n in range(1, maximum_n + 1):\n",
    "    result[n - 1].append(n)\n",
    "    result[n - 1].append(n**2)\n",
    "    result[n - 1].append(n**3)\n",
    "\n",
    "result"
   ]
  },
  {
   "attachments": {},
   "cell_type": "markdown",
   "id": "2c045e24",
   "metadata": {},
   "source": [
    "### A solution"
   ]
  },
  {
   "cell_type": "markdown",
   "id": "fa6c8a5a-cf38-4cc3-95fa-7a40f1c02b96",
   "metadata": {},
   "source": [
    "|#\t|Option 1|\tOption 2|\tResult (faster option)|\n",
    "|:---|:---|:---|:---|\n",
    "|1\t|Creating a list of squares with `for` loop|\tCreating a list of squares with `while` loop| Option 1|\n",
    "|2\t|Creating a list of squares with a `for` loop.|\tCreating a list of squares with a **list comprehension** loop.| Option 2|\n",
    "|3\t|Creating a list of squares using **list** `append()`|\tCreating a list of squares using **list** `+=`| Option 1|\n",
    "|4\t|Creating a list of squares using **list** `append()`\t|Creating a list of squares using `append()` of **Numpy**| Option 1|\n",
    "|5\t|Creating a list of squares using **Numpy**|\tCreating a list of squares using **List comprehension** loop.| Option 2|\t"
   ]
  },
  {
   "cell_type": "code",
   "execution_count": 104,
   "id": "429558fe",
   "metadata": {},
   "outputs": [
    {
     "name": "stdout",
     "output_type": "stream",
     "text": [
      "8.649725700001\n"
     ]
    }
   ],
   "source": [
    "import timeit\n",
    "\n",
    "# Creating a list of squares with for loop\n",
    "# Creating a list of squares using list append()\n",
    "mycode = '''\n",
    "list = []\n",
    "for count in range (100):\n",
    "    list.append(count**2)\n",
    "'''\n",
    "\n",
    "print (timeit.timeit(stmt = mycode, number = 1000000))"
   ]
  },
  {
   "cell_type": "code",
   "execution_count": 102,
   "id": "f66e06b1-d37c-4318-8a51-30770852a04a",
   "metadata": {},
   "outputs": [
    {
     "name": "stdout",
     "output_type": "stream",
     "text": [
      "12.335033600000315\n"
     ]
    }
   ],
   "source": [
    "import timeit\n",
    "\n",
    "# Creating a list of squares with while loop\n",
    "mycode = '''\n",
    "list = []\n",
    "count = 0\n",
    "while count < 100:\n",
    "    list.append(count**2)\n",
    "    count += 1\n",
    "'''\n",
    "\n",
    "print (timeit.timeit(stmt = mycode, number = 1000000))"
   ]
  },
  {
   "cell_type": "code",
   "execution_count": 103,
   "id": "acf64db7-934d-4507-9977-41281ca3f543",
   "metadata": {},
   "outputs": [
    {
     "name": "stdout",
     "output_type": "stream",
     "text": [
      "7.54217190000054\n"
     ]
    }
   ],
   "source": [
    "import timeit\n",
    "\n",
    "# Creating a list of squares with a list comprehension loop.\n",
    "mycode = \"[square**2 for square in range(100)]\"\n",
    "\n",
    "print (timeit.timeit(stmt = mycode, number = 1000000))"
   ]
  },
  {
   "cell_type": "code",
   "execution_count": 105,
   "id": "eae2713d-97f3-4da9-b4d9-6eceb7458de1",
   "metadata": {},
   "outputs": [
    {
     "name": "stdout",
     "output_type": "stream",
     "text": [
      "13.66401760000008\n"
     ]
    }
   ],
   "source": [
    "import timeit\n",
    "\n",
    "# Creating a list of squares using list +=\n",
    "mycode = '''\n",
    "list = []\n",
    "for count in range (100):\n",
    "    list += [count**2]\n",
    "'''\n",
    "\n",
    "print (timeit.timeit(stmt = mycode, number = 1000000))"
   ]
  },
  {
   "cell_type": "code",
   "execution_count": 106,
   "id": "15b0f55c-6733-43f3-909b-b7c341e9df85",
   "metadata": {},
   "outputs": [
    {
     "name": "stdout",
     "output_type": "stream",
     "text": [
      "33.95146300000124\n"
     ]
    }
   ],
   "source": [
    "import timeit\n",
    "\n",
    "# Creating a list of squares using append() of Numpy\n",
    "# Creating a list of squares using Numpy\n",
    "mycode = '''\n",
    "import numpy\n",
    "np_array = numpy.array([])\n",
    "for count in range (100):\n",
    "    np_array = numpy.append(np_array, count**2)\n",
    "'''\n",
    "\n",
    "print (timeit.timeit(stmt = mycode, number = 100000))  #Decrease no. of iterations by 10 times"
   ]
  },
  {
   "cell_type": "markdown",
   "id": "7592c97c-10d6-4cd0-a0bf-3b64b9c69ee2",
   "metadata": {},
   "source": [
    "Using shell magic `%%timeit`"
   ]
  },
  {
   "cell_type": "code",
   "execution_count": 92,
   "id": "325f2bfc-73a5-4e6c-897b-7c4fc2f6ea34",
   "metadata": {},
   "outputs": [
    {
     "name": "stdout",
     "output_type": "stream",
     "text": [
      "310 µs ± 6.94 µs per loop (mean ± std. dev. of 7 runs, 1,000 loops each)\n"
     ]
    }
   ],
   "source": [
    "\n",
    "%%timeit\n",
    "import numpy\n",
    "np_array = numpy.array([])\n",
    "for count in range (100):\n",
    "    np_array = numpy.append(np_array, count**2)\n"
   ]
  },
  {
   "cell_type": "code",
   "execution_count": 97,
   "id": "86c35388-7b50-4fa3-ae47-47c9bc480a66",
   "metadata": {},
   "outputs": [
    {
     "name": "stdout",
     "output_type": "stream",
     "text": [
      "17.2 µs ± 2.06 µs per loop (mean ± std. dev. of 7 runs, 100,000 loops each)\n"
     ]
    }
   ],
   "source": [
    "%%timeit\n",
    "list = []\n",
    "for count in range (100):\n",
    "    list += [count**2]"
   ]
  },
  {
   "cell_type": "code",
   "execution_count": 98,
   "id": "dda4d17f-8f06-4519-9968-0ae3cb28c029",
   "metadata": {},
   "outputs": [
    {
     "name": "stdout",
     "output_type": "stream",
     "text": [
      "8.04 µs ± 913 ns per loop (mean ± std. dev. of 7 runs, 100,000 loops each)\n"
     ]
    }
   ],
   "source": [
    "%%timeit\n",
    "[square**2 for square in range(100)]"
   ]
  },
  {
   "cell_type": "code",
   "execution_count": 99,
   "id": "3b1d3d8b-5d04-4b3e-9fee-cafdba59b6af",
   "metadata": {},
   "outputs": [
    {
     "name": "stdout",
     "output_type": "stream",
     "text": [
      "12.1 µs ± 1.03 µs per loop (mean ± std. dev. of 7 runs, 100,000 loops each)\n"
     ]
    }
   ],
   "source": [
    "%%timeit\n",
    "list = []\n",
    "count = 0\n",
    "while count < 100:\n",
    "    list.append(count**2)\n",
    "    count += 1"
   ]
  },
  {
   "cell_type": "code",
   "execution_count": 100,
   "id": "7210819e-e90d-44fc-bd5c-8fa6441840f7",
   "metadata": {},
   "outputs": [
    {
     "name": "stdout",
     "output_type": "stream",
     "text": [
      "9.48 µs ± 1.13 µs per loop (mean ± std. dev. of 7 runs, 100,000 loops each)\n"
     ]
    }
   ],
   "source": [
    "%%timeit\n",
    "list = []\n",
    "for count in range (100):\n",
    "    list.append(count**2)"
   ]
  }
 ],
 "metadata": {
  "kernelspec": {
   "display_name": "Python 3 (ipykernel)",
   "language": "python",
   "name": "python3"
  },
  "language_info": {
   "codemirror_mode": {
    "name": "ipython",
    "version": 3
   },
   "file_extension": ".py",
   "mimetype": "text/x-python",
   "name": "python",
   "nbconvert_exporter": "python",
   "pygments_lexer": "ipython3",
   "version": "3.11.5"
  },
  "toc": {
   "base_numbering": 1,
   "nav_menu": {},
   "number_sections": true,
   "sideBar": true,
   "skip_h1_title": false,
   "title_cell": "Table of Contents",
   "title_sidebar": "Contents",
   "toc_cell": false,
   "toc_position": {},
   "toc_section_display": true,
   "toc_window_display": false
  },
  "vscode": {
   "interpreter": {
    "hash": "31f2aee4e71d21fbe5cf8b01ff0e069b9275f58929596ceb00d14d90e3e16cd6"
   }
  }
 },
 "nbformat": 4,
 "nbformat_minor": 5
}
