{
 "cells": [
  {
   "attachments": {},
   "cell_type": "markdown",
   "id": "123456",
   "metadata": {},
   "source": [
    "<div style=\"text-align:left;font-size:2em\"><span style=\"font-weight:bolder;font-size:1.25em\">SP2273 | Learning Portfolio</span><br><br><span style=\"font-weight:bold;color:darkred\">Fundamentals (Need) Exercises</span></div>"
   ]
  },
  {
   "cell_type": "markdown",
   "id": "0131e15a-54c4-476c-afdd-abac33b8c076",
   "metadata": {},
   "source": [
    "Exercise 1: total recall.......... what if i dont rmb stuff until it becomes relevant?"
   ]
  },
  {
   "cell_type": "markdown",
   "id": "53bb1dfc-9ac2-46a9-9275-6cbbc185c2d8",
   "metadata": {},
   "source": [
    "Python feature mentioned:\n",
    "\n",
    "1. comments\n",
    "2. import packages\n",
    "3. functions\n",
    "4. dot for ownership\n",
    "5. indentations\n",
    "8. *python is an interpreter* \n",
    "9. *python is case sensitive* (i technically know this...)\n",
    "10. *= and == mean different things* (i technically know this...) \n",
    "11. *use if for decision making* (i technically know this...)\n",
    "12. *variables (e.g. 'x' is a string with the letter x, x is a variable) (i technically know this...)\n",
    "13. brackets\n",
    "    1. list []\n",
    "    2. dictionary {}\n",
    "    3. *functions & math ()* (i technically know this...)"
   ]
  },
  {
   "cell_type": "markdown",
   "id": "c8417357-e089-4e59-9c82-674f0caef330",
   "metadata": {},
   "source": [
    "Exercise 2: Debug code below\n",
    "\n",
    "x, y = 3, 4\r\n",
    "        z = sqrt(x*2 + y**2)\r\n",
    "    Print(x, y, z)"
   ]
  },
  {
   "cell_type": "code",
   "execution_count": 1,
   "id": "4de1af0d-94c7-40dc-8c1a-681d02547b07",
   "metadata": {},
   "outputs": [
    {
     "name": "stdout",
     "output_type": "stream",
     "text": [
      "3 4 5.0\n"
     ]
    }
   ],
   "source": [
    "x, y = 3, 4\n",
    "z = (x**2 + y**2)**(1/2)\n",
    "print(x, y, z)"
   ]
  },
  {
   "cell_type": "code",
   "execution_count": 2,
   "id": "d7bac172-8899-46bb-9ed2-2348aabdfa7e",
   "metadata": {},
   "outputs": [
    {
     "name": "stdout",
     "output_type": "stream",
     "text": [
      "3 4 5.0\n"
     ]
    }
   ],
   "source": [
    "#alternative\n",
    "import math\n",
    "x, y = 3, 4\n",
    "z = math.sqrt(x**2 + y**2)\n",
    "print(x, y, z)"
   ]
  },
  {
   "cell_type": "code",
   "execution_count": 3,
   "id": "1571d0ba-f7e1-40c7-a8cf-76987fbf763a",
   "metadata": {},
   "outputs": [
    {
     "name": "stdout",
     "output_type": "stream",
     "text": [
      "3 4 5.0\n"
     ]
    }
   ],
   "source": [
    "#alternative 2\n",
    "import numpy\n",
    "x, y = 3, 4\n",
    "z = numpy.sqrt(x**2 + y**2)\n",
    "print(x, y, z)"
   ]
  },
  {
   "cell_type": "markdown",
   "id": "f6c19d57-32eb-43c7-ae67-0137e1fc6241",
   "metadata": {},
   "source": [
    "Exercise 3:"
   ]
  },
  {
   "cell_type": "markdown",
   "id": "c93385a9-4dc5-4651-a93e-39c305012ad1",
   "metadata": {},
   "source": [
    "|#\t|Term|Description|\n",
    "|:---|:---|:---|\n",
    "|1\t|Function| A function is a block of code that runs when the function name is called (with parentheses behind the name)|\n",
    "|2\t|Arguments| An argument is data that can be inserted into a function using the parentheses|\n",
    "|3\t|Comments| A comment is something inserted in code that will not be executed when running the code, allowing users to write stuff in between the code for clarification, sectioning etc|\n",
    "|4\t|Indentations| An indentation is used to indicate a block of code |\t\n",
    "|5\t|Packages| A package is a group of functions that performs specific tasks (tasks are usually related) which can be imported into the Python file we are working on|\n",
    "|6\t|.\t| A dot is used to indicate where the function/attribute belongs to (e.g. for math.sqrt(), the sqrt function belongs to the math module)|\n",
    "|7\t|:\t| Colon can do multiple things in python, for example, it can be used to indicate a block of code (so the next line after a code line finishing with \":\" is indented), it can also be used to assign value to a key in dictionaries |\n",
    "|8\t|[]\t| Square brackets are used to indicate the start and end of a list|\n",
    "|9\t|[[[]]]\t| Multiple square brackets are used to indicate lists inside of another list, making the original list multi-dimensional|\n",
    "|10|\t{}\t| Curly brackets are used to indicate dictionaries, and data indicated between the curly brackets are stored inside dictionary|"
   ]
  },
  {
   "cell_type": "markdown",
   "id": "67acfb96-e7e3-4858-81f6-774b3daef8f7",
   "metadata": {},
   "source": [
    "Exercise 4: What does each one do?"
   ]
  },
  {
   "cell_type": "code",
   "execution_count": 15,
   "id": "f14aca0c-162f-4c79-b8b6-e0d38a9fa596",
   "metadata": {},
   "outputs": [
    {
     "data": {
      "text/plain": [
       "2.5"
      ]
     },
     "execution_count": 15,
     "metadata": {},
     "output_type": "execute_result"
    }
   ],
   "source": [
    "5/2 #simple division"
   ]
  },
  {
   "cell_type": "code",
   "execution_count": 19,
   "id": "5d351f1e-d6bc-4fd6-bd3a-2659e67e4d2c",
   "metadata": {},
   "outputs": [
    {
     "data": {
      "text/plain": [
       "2"
      ]
     },
     "execution_count": 19,
     "metadata": {},
     "output_type": "execute_result"
    }
   ],
   "source": [
    "5//2 #integer/floor division, provides the quotient when dividing one number by another (eg. 5/2 = 2 R 1, so result is 2)"
   ]
  },
  {
   "cell_type": "code",
   "execution_count": 18,
   "id": "6a37cd0f-a233-4126-a4af-deb2137dbedd",
   "metadata": {},
   "outputs": [
    {
     "data": {
      "text/plain": [
       "1"
      ]
     },
     "execution_count": 18,
     "metadata": {},
     "output_type": "execute_result"
    }
   ],
   "source": [
    "5%2 #division, provides the remainder (eg. 5/2 = 2 R 1, so result is 1)"
   ]
  }
 ],
 "metadata": {
  "kernelspec": {
   "display_name": "Python 3 (ipykernel)",
   "language": "python",
   "name": "python3"
  },
  "language_info": {
   "codemirror_mode": {
    "name": "ipython",
    "version": 3
   },
   "file_extension": ".py",
   "mimetype": "text/x-python",
   "name": "python",
   "nbconvert_exporter": "python",
   "pygments_lexer": "ipython3",
   "version": "3.11.5"
  },
  "toc": {
   "base_numbering": 1,
   "nav_menu": {},
   "number_sections": true,
   "sideBar": true,
   "skip_h1_title": false,
   "title_cell": "Table of Contents",
   "title_sidebar": "Contents",
   "toc_cell": false,
   "toc_position": {},
   "toc_section_display": true,
   "toc_window_display": false
  },
  "vscode": {
   "interpreter": {
    "hash": "31f2aee4e71d21fbe5cf8b01ff0e069b9275f58929596ceb00d14d90e3e16cd6"
   }
  }
 },
 "nbformat": 4,
 "nbformat_minor": 5
}
