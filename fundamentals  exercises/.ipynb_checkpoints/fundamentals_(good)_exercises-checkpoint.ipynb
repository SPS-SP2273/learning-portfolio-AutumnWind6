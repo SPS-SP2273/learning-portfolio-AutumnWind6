{
 "cells": [
  {
   "attachments": {},
   "cell_type": "markdown",
   "id": "123456",
   "metadata": {},
   "source": [
    "<div style=\"text-align:left;font-size:2em\"><span style=\"font-weight:bolder;font-size:1.25em\">SP2273 | Learning Portfolio</span><br><br><span style=\"font-weight:bold;color:darkred\">Fundamentals (Good) Exercises</span></div>"
   ]
  },
  {
   "cell_type": "code",
   "execution_count": 1,
   "id": "3c87edbe-9dbe-43f8-a151-45488a4ffb25",
   "metadata": {},
   "outputs": [
    {
     "name": "stdin",
     "output_type": "stream",
     "text": [
      "Give me a number? 3\n"
     ]
    },
    {
     "name": "stdout",
     "output_type": "stream",
     "text": [
      "You entered 3\n"
     ]
    }
   ],
   "source": [
    "user_input = input('Give me a number?')\n",
    "print('You entered', user_input)"
   ]
  },
  {
   "cell_type": "code",
   "execution_count": 12,
   "id": "92aab613-0474-44a0-aaf6-c8b06fb2adcd",
   "metadata": {},
   "outputs": [
    {
     "name": "stdin",
     "output_type": "stream",
     "text": [
      "Enter the student's score: 34\n"
     ]
    },
    {
     "name": "stdout",
     "output_type": "stream",
     "text": [
      "The student's letter grade is:  Fail\n"
     ]
    }
   ],
   "source": [
    "import sys\n",
    "\n",
    "user_input = input('Enter the student\\'s score:')\n",
    "\n",
    "if user_input.isnumeric() == True:       #checks if input is numeric and can be converted to integer\n",
    "    score = int(user_input)\n",
    "else: \n",
    "    print ('Input is not an integer')\n",
    "    sys.exit(0)\n",
    "\n",
    "if score > 100:                       # assigns grade based on score \n",
    "    print('Score must not be greater than 100')\n",
    "    sys.exit(0)\n",
    "elif 70 <= score <= 100:\n",
    "    grade = 'A'\n",
    "elif 50 <= score <= 69:\n",
    "    grade = 'B'\n",
    "elif 35 <= score <= 49:\n",
    "    grade = 'C'\n",
    "else:\n",
    "    grade = 'Fail'\n",
    "    \n",
    "print ('The student\\'s letter grade is: ', grade)"
   ]
  }
 ],
 "metadata": {
  "kernelspec": {
   "display_name": "Python 3 (ipykernel)",
   "language": "python",
   "name": "python3"
  },
  "language_info": {
   "codemirror_mode": {
    "name": "ipython",
    "version": 3
   },
   "file_extension": ".py",
   "mimetype": "text/x-python",
   "name": "python",
   "nbconvert_exporter": "python",
   "pygments_lexer": "ipython3",
   "version": "3.11.5"
  },
  "toc": {
   "base_numbering": 1,
   "nav_menu": {},
   "number_sections": true,
   "sideBar": true,
   "skip_h1_title": false,
   "title_cell": "Table of Contents",
   "title_sidebar": "Contents",
   "toc_cell": false,
   "toc_position": {},
   "toc_section_display": true,
   "toc_window_display": false
  },
  "vscode": {
   "interpreter": {
    "hash": "31f2aee4e71d21fbe5cf8b01ff0e069b9275f58929596ceb00d14d90e3e16cd6"
   }
  }
 },
 "nbformat": 4,
 "nbformat_minor": 5
}
