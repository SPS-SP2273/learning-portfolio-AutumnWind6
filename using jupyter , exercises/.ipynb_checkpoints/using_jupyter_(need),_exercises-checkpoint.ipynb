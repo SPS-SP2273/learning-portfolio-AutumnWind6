{
 "cells": [
  {
   "attachments": {},
   "cell_type": "markdown",
   "id": "123456",
   "metadata": {},
   "source": [
    "<div style=\"text-align:left;font-size:2em\"><span style=\"font-weight:bolder;font-size:1.25em\">SP2273 | Learning Portfolio</span><br><br><span style=\"font-weight:bold;color:darkred\">Using Jupyter (Need), Exercises</span></div>"
   ]
  },
  {
   "cell_type": "markdown",
   "id": "b06988cf-af0c-4219-8cfb-b80aece85e1f",
   "metadata": {},
   "source": [
    "# Exercise 1"
   ]
  },
  {
   "attachments": {},
   "cell_type": "markdown",
   "id": "52e322df",
   "metadata": {},
   "source": [
    "## Quadratic Equations"
   ]
  },
  {
   "attachments": {},
   "cell_type": "markdown",
   "id": "f5aadf7f",
   "metadata": {},
   "source": [
    "### Introduction"
   ]
  },
  {
   "cell_type": "markdown",
   "id": "83f78516-1043-4b01-a01e-a78ba678e32b",
   "metadata": {},
   "source": [
    "![](https://upload.wikimedia.org/wikipedia/commons/thumb/f/f8/Polynomialdeg2.svg/800px-Polynomialdeg2.svg.png)\n",
    "\n",
    "*(Image from the [Wikipedia page on Quadratic equations](https://en.wikipedia.org/wiki/Quadratic_equation))*\n"
   ]
  },
  {
   "cell_type": "markdown",
   "id": "7c00c925-660f-47bb-999a-f0f84ec60dbd",
   "metadata": {},
   "source": [
    "The general form of a quadratic equation is:\n",
    "$$\n",
    "ax^2 + bx +c = 0\n",
    "$$"
   ]
  },
  {
   "attachments": {},
   "cell_type": "markdown",
   "id": "27a533b2",
   "metadata": {},
   "source": [
    "### Solutions"
   ]
  },
  {
   "cell_type": "markdown",
   "id": "d32e716b-e7cf-4fa1-b35f-ab6d094ebba1",
   "metadata": {},
   "source": [
    "Provided $a \\ne 0$, we can use an elementary algebraic method called [completing the square](https://en.wikipedia.org/wiki/Completing_the_square) to show that a quadratic equation has the following solution:\n",
    "$$\r\n",
    "x = \\dfrac{-b \\pm \\sqrt{b^2-4ac}}{2a}\r\n",
    "$$"
   ]
  },
  {
   "attachments": {},
   "cell_type": "markdown",
   "id": "c11c2503",
   "metadata": {},
   "source": [
    "### Discriminant"
   ]
  },
  {
   "cell_type": "markdown",
   "id": "66a26417-c3c1-4438-824d-0446588ea6d9",
   "metadata": {},
   "source": [
    "The quantity $\\Delta = b^2 -4ac$ is called the **discriminant** of the equation and decides the nature of its solutions. The table below shows the various possibilities.\n"
   ]
  },
  {
   "cell_type": "markdown",
   "id": "cebd1b07-4d06-4254-9f2a-64738bf58154",
   "metadata": {},
   "source": [
    "| **Discriminant** | **Roots** |\n",
    "| :--- | :--- |\n",
    "| $\\Delta = b^2 -4ac = 0$ | A single solution of $-b/(2a)$|\n",
    "| $\\Delta = b^2 -4ac > 0$ | Two distinct solutions|\n",
    "| $\\Delta = b^2 -4ac < 0$ | No real solutions; both are complex|"
   ]
  },
  {
   "cell_type": "markdown",
   "id": "b3fa4bed-3b6f-4047-a2d1-3a7a2b4787fb",
   "metadata": {},
   "source": [
    "# Exercise 2"
   ]
  },
  {
   "cell_type": "markdown",
   "id": "650f5ccc-23d5-4a7b-a17b-52ea55b61ff2",
   "metadata": {},
   "source": [
    "Qn 1. What is a Git repository?\n",
    "\n",
    "Ans:\n",
    "\n",
    "Qn 2. Git keeps tracks of ___ in the files in our repository.\n",
    "\n",
    "Ans: changes\n",
    "\n",
    "Qn 3. What is a commit?\n",
    "\n",
    "Ans:\n",
    "\n",
    "Qn 4. What is a push?\n",
    "\n",
    "Ans:\n",
    "\n",
    "Qn 5. What is a pull?\n",
    "\n",
    "Ans: \n",
    "\n",
    "Qn 7. What is the difference between GitHub and GitHub Desktop?\n",
    "\n",
    "Ans:\n"
   ]
  },
  {
   "cell_type": "code",
   "execution_count": null,
   "id": "db33fa15-7727-41b4-98ad-2165a1f20b1a",
   "metadata": {},
   "outputs": [],
   "source": []
  }
 ],
 "metadata": {
  "kernelspec": {
   "display_name": "Python 3 (ipykernel)",
   "language": "python",
   "name": "python3"
  },
  "language_info": {
   "codemirror_mode": {
    "name": "ipython",
    "version": 3
   },
   "file_extension": ".py",
   "mimetype": "text/x-python",
   "name": "python",
   "nbconvert_exporter": "python",
   "pygments_lexer": "ipython3",
   "version": "3.11.5"
  },
  "toc": {
   "base_numbering": 1,
   "nav_menu": {},
   "number_sections": true,
   "sideBar": true,
   "skip_h1_title": false,
   "title_cell": "Table of Contents",
   "title_sidebar": "Contents",
   "toc_cell": false,
   "toc_position": {},
   "toc_section_display": true,
   "toc_window_display": false
  },
  "vscode": {
   "interpreter": {
    "hash": "31f2aee4e71d21fbe5cf8b01ff0e069b9275f58929596ceb00d14d90e3e16cd6"
   }
  }
 },
 "nbformat": 4,
 "nbformat_minor": 5
}
