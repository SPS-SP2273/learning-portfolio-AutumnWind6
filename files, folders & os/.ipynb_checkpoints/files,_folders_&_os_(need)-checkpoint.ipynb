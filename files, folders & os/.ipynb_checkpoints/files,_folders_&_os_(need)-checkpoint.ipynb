{
 "cells": [
  {
   "attachments": {},
   "cell_type": "markdown",
   "id": "123456",
   "metadata": {},
   "source": [
    "<div style=\"text-align:left;font-size:2em\"><span style=\"font-weight:bolder;font-size:1.25em\">SP2273 | Learning Portfolio</span><br><br><span style=\"font-weight:bold;color:darkred\">Files, Folders & OS (Need)</span></div>"
   ]
  },
  {
   "attachments": {},
   "cell_type": "markdown",
   "id": "b9ad0dd1",
   "metadata": {},
   "source": [
    "# What to expect in this chapter"
   ]
  },
  {
   "attachments": {},
   "cell_type": "markdown",
   "id": "dde3a8fd",
   "metadata": {},
   "source": [
    "# 1 Important concepts"
   ]
  },
  {
   "attachments": {},
   "cell_type": "markdown",
   "id": "554ee056",
   "metadata": {},
   "source": [
    "## 1.1 Path"
   ]
  },
  {
   "cell_type": "markdown",
   "id": "5bbc23b7-e3df-475f-a4cc-f13ce2f652fd",
   "metadata": {},
   "source": [
    "**Absolute path:**\n",
    "\n",
    "Start from which drive folder is in to the destination folder \n",
    "\n",
    "vs \n",
    "\n",
    "**Relative path:**\n",
    "\n",
    "Start from where current position to destination folder"
   ]
  },
  {
   "cell_type": "markdown",
   "id": "3e062339-18ef-438b-8472-fb7e31b7daad",
   "metadata": {},
   "source": [
    "`D:\\OneDrive\\2024\\NUS AY202324 Sem 2 Academics\\SP2273 Working on Interdiscinplinary Science, Pythonically\\learning-portfolio-AutumnWind6\\files, folders & os`"
   ]
  },
  {
   "attachments": {},
   "cell_type": "markdown",
   "id": "f1f13f10",
   "metadata": {},
   "source": [
    "## 1.2 More about relative paths"
   ]
  },
  {
   "cell_type": "markdown",
   "id": "9a5ee430-05bf-4c2d-97cf-e9ea479775f9",
   "metadata": {},
   "source": [
    "|Notation\t|Meaning|\n",
    "|:---|:---|\n",
    "|.\t|‘this folder’|\n",
    "|..\t|‘one folder above’|"
   ]
  },
  {
   "attachments": {},
   "cell_type": "markdown",
   "id": "df576390",
   "metadata": {},
   "source": [
    "### macOS or Linux"
   ]
  },
  {
   "cell_type": "markdown",
   "id": "2362a210-c0ab-4cf3-a6db-93b962504e11",
   "metadata": {},
   "source": [
    "macOS and Linux allow you to use `~` to refer to your home directory. So, for example, you can access the `Desktop` in these systems ‘relatively’ with `~/Desktop`. "
   ]
  },
  {
   "attachments": {},
   "cell_type": "markdown",
   "id": "7b935ee7",
   "metadata": {},
   "source": [
    "## 1.3 Path separator"
   ]
  },
  {
   "cell_type": "markdown",
   "id": "2f4c0e1a-71b0-487c-9979-67a30ed65244",
   "metadata": {},
   "source": [
    "Windows uses `\\` as the path separator while macOS (or Linux) uses `/`."
   ]
  },
  {
   "cell_type": "markdown",
   "id": "80d58cfc-41fa-4961-9878-b2c92944e2e4",
   "metadata": {},
   "source": [
    "If you want to share your code and want it to work on both systems, you must not **hardcode** either path separator. Use the Python `os` package to fix this problem."
   ]
  },
  {
   "attachments": {},
   "cell_type": "markdown",
   "id": "3abfd670",
   "metadata": {},
   "source": [
    "## 1.4 Text files vs. Binary files"
   ]
  },
  {
   "cell_type": "markdown",
   "id": "8149a51a-642b-4def-95e6-56ab58139790",
   "metadata": {},
   "source": [
    "You can think of all files on your computer as being either text files or binary files. Text files are simple and can be opened, and their contents examined by almost any software (e.g., Notepad, TextEdit, Jupiter,…). Examples of text file formats are .txt, .md or .csv.\n",
    "\n",
    "Binary files, in contrast, require some processing to make sense of what they contain. For example, if you look at the raw data in a .png file, you will see gibberish. In addition, some binary files will only run on specific OSs. For example, the Excel.app on a Mac will not run on Windows, nor will the Excel.exe file run on macOS (or Linux). Some reasons for having binary files are speed and size; text files, though simple, can get bulky."
   ]
  },
  {
   "attachments": {},
   "cell_type": "markdown",
   "id": "70ddb337",
   "metadata": {},
   "source": [
    "## 1.5 Extensions"
   ]
  },
  {
   "cell_type": "markdown",
   "id": "a4a0cdef-1928-45af-8112-ff9eabb83029",
   "metadata": {},
   "source": [
    "Files are usually named to end with an extension separated from the name by a . like name.extension. This extension lets the OS know what software or app to use to extract the details in a file. For example, a .xlsx means use Excel or .pptx means use PowerPoint. Be careful about changing the extension of a file, as it will make your OS cough and throw a fit. If you don’t believe me, try changing a .xlsx to .txt and double-click."
   ]
  },
  {
   "attachments": {},
   "cell_type": "markdown",
   "id": "ae6d89db",
   "metadata": {},
   "source": [
    "# 2 Opening and closing files"
   ]
  },
  {
   "cell_type": "markdown",
   "id": "2d250dd6-17b0-4f5e-a706-5b61b0e51154",
   "metadata": {},
   "source": [
    "Now, let’s look at how we can open a file for reading and writing. I will show you a slightly advanced but better way of doing this by using the with statement (called a context manager). First, please download the file spectrum-01.txt into the current folder in your Learning Portfolio."
   ]
  },
  {
   "attachments": {},
   "cell_type": "markdown",
   "id": "dc7f345c",
   "metadata": {},
   "source": [
    "## 2.1 Reading data"
   ]
  },
  {
   "attachments": {},
   "cell_type": "markdown",
   "id": "6c7674cd",
   "metadata": {},
   "source": [
    "## 2.2 Writing data"
   ]
  },
  {
   "attachments": {},
   "cell_type": "markdown",
   "id": "5528164e",
   "metadata": {},
   "source": [
    "### Writing to a file in one go"
   ]
  },
  {
   "cell_type": "code",
   "execution_count": null,
   "id": "7a5a2f66",
   "metadata": {},
   "outputs": [],
   "source": [
    "\n",
    "# Your code here\n"
   ]
  },
  {
   "attachments": {},
   "cell_type": "markdown",
   "id": "dc510002",
   "metadata": {},
   "source": [
    "### Writing to a file, line by line"
   ]
  },
  {
   "cell_type": "code",
   "execution_count": null,
   "id": "6aa37e98",
   "metadata": {},
   "outputs": [],
   "source": [
    "\n",
    "# Your code here\n"
   ]
  },
  {
   "attachments": {},
   "cell_type": "markdown",
   "id": "55d0e7b8",
   "metadata": {},
   "source": [
    "# 3 Some useful packages"
   ]
  },
  {
   "attachments": {},
   "cell_type": "markdown",
   "id": "f587301c",
   "metadata": {},
   "source": [
    "# 4 OS safe paths"
   ]
  },
  {
   "attachments": {},
   "cell_type": "markdown",
   "id": "9d49bd7f",
   "metadata": {},
   "source": [
    "# 5 Folders"
   ]
  },
  {
   "attachments": {},
   "cell_type": "markdown",
   "id": "3ecc2b5d",
   "metadata": {},
   "source": [
    "## 5.1 Creating folders"
   ]
  },
  {
   "attachments": {},
   "cell_type": "markdown",
   "id": "7eeeb5ba",
   "metadata": {},
   "source": [
    "## 5.2 Checking for existence"
   ]
  },
  {
   "attachments": {},
   "cell_type": "markdown",
   "id": "d8894547",
   "metadata": {},
   "source": [
    "### Using try-except"
   ]
  },
  {
   "cell_type": "code",
   "execution_count": null,
   "id": "c1b51358",
   "metadata": {},
   "outputs": [],
   "source": [
    "\n",
    "# Your code here\n"
   ]
  },
  {
   "attachments": {},
   "cell_type": "markdown",
   "id": "89f11d27",
   "metadata": {},
   "source": [
    "### Using os.path.exists()"
   ]
  },
  {
   "cell_type": "code",
   "execution_count": null,
   "id": "242e333a",
   "metadata": {},
   "outputs": [],
   "source": [
    "\n",
    "# Your code here\n"
   ]
  },
  {
   "attachments": {},
   "cell_type": "markdown",
   "id": "6cbfe74d",
   "metadata": {},
   "source": [
    "## 5.3 Copying files"
   ]
  },
  {
   "attachments": {},
   "cell_type": "markdown",
   "id": "a9a497f6",
   "metadata": {},
   "source": [
    "# 6 Listing and looking for files"
   ]
  },
  {
   "attachments": {},
   "cell_type": "markdown",
   "id": "e38beffe",
   "metadata": {},
   "source": [
    "# 7 Extracting file info"
   ]
  },
  {
   "attachments": {},
   "cell_type": "markdown",
   "id": "bf5037e0",
   "metadata": {},
   "source": [
    "# 8 Deleting stuff"
   ]
  }
 ],
 "metadata": {
  "kernelspec": {
   "display_name": "Python 3 (ipykernel)",
   "language": "python",
   "name": "python3"
  },
  "language_info": {
   "codemirror_mode": {
    "name": "ipython",
    "version": 3
   },
   "file_extension": ".py",
   "mimetype": "text/x-python",
   "name": "python",
   "nbconvert_exporter": "python",
   "pygments_lexer": "ipython3",
   "version": "3.11.5"
  },
  "toc": {
   "base_numbering": 1,
   "nav_menu": {},
   "number_sections": true,
   "sideBar": true,
   "skip_h1_title": false,
   "title_cell": "Table of Contents",
   "title_sidebar": "Contents",
   "toc_cell": false,
   "toc_position": {},
   "toc_section_display": true,
   "toc_window_display": false
  },
  "vscode": {
   "interpreter": {
    "hash": "31f2aee4e71d21fbe5cf8b01ff0e069b9275f58929596ceb00d14d90e3e16cd6"
   }
  }
 },
 "nbformat": 4,
 "nbformat_minor": 5
}
