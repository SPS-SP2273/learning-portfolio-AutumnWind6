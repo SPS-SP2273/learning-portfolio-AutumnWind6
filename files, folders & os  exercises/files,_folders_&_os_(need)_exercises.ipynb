{
 "cells": [
  {
   "attachments": {},
   "cell_type": "markdown",
   "id": "123456",
   "metadata": {},
   "source": [
    "<div style=\"text-align:left;font-size:2em\"><span style=\"font-weight:bolder;font-size:1.25em\">SP2273 | Learning Portfolio</span><br><br><span style=\"font-weight:bold;color:darkred\">Files, Folders & OS (Need) Exercises</span></div>"
   ]
  },
  {
   "cell_type": "markdown",
   "id": "1bc922f3-53df-4441-abc0-a823cf860adf",
   "metadata": {},
   "source": [
    "You are a member of an international team analysing environmental pollution. The project involves ten cities: Cairo, Dhaka, Jakarta, Karachi, Manila, Melbourne, Osaka, Shanghai, Singapore, and Tokyo.\n",
    "\n",
    "Your task is to process and organise data from various environmental measurements. The provided zip file, os-collaboration-exercise-data.zip, contains all relevant data files for the past year.\n",
    "\n",
    "**Things to note**\n",
    "\n",
    "1. **Data Files**: Each data file is named in the format `month-date_city.txt` (e.g., `may-10_singapore.txt`).\n",
    "1. **Data Collection**: Data was recorded sporadically; not all days of each month have corresponding data files. The dates of data collection vary across the cities.\n",
    "1. **Exclusion of Files**: Ignore any non-text files, such as those in `.pdf`, `.png`, or `.jpg` formats."
   ]
  },
  {
   "cell_type": "code",
   "execution_count": 4,
   "id": "c9b365cb-c59a-4671-88ed-5b78c91719b0",
   "metadata": {},
   "outputs": [],
   "source": [
    "import os\n",
    "import glob\n",
    "import shutil"
   ]
  },
  {
   "cell_type": "markdown",
   "id": "c1dea9b3-8073-4fcc-b7a2-9517acd72b04",
   "metadata": {},
   "source": [
    "**Task 1**\n",
    "\n",
    "- We like to convert the filename to a more useful numerical format. Specifically, we want to convert `month-date_city.txt`. (i.e. `may-10_singapore.txt`) to a `mm-dd-city.txt` (i.e. `05-10-singapore.txt`) format.\n",
    "\n",
    "- Using the following dictionary (or otherwise), write a snippet of Python code to convert `'oct-08_singapore.txt'` to `10-08-singapore.txt`."
   ]
  },
  {
   "cell_type": "code",
   "execution_count": 6,
   "id": "63830950-6a30-4eb0-a04e-4400d9b9f64a",
   "metadata": {},
   "outputs": [],
   "source": [
    "months_info = {\n",
    "'jan': '01', 'feb': '02', 'mar': '03',\n",
    "'apr': '04', 'may': '05', 'jun': '06',\n",
    "'jul': '07', 'aug': '08', 'sep': '09',\n",
    "'oct': '10', 'nov': '11', 'dec': '12'\n",
    "}"
   ]
  },
  {
   "cell_type": "code",
   "execution_count": null,
   "id": "b4bb9464-695e-4e24-9db2-cd2d85d8cb49",
   "metadata": {},
   "outputs": [],
   "source": [
    "initial_name = \"oct-08_singapore.txt\"\n",
    "new_name = \"10-08-singapore.txt\"\n",
    "\n",
    "os.rename(initial_name, new_name)"
   ]
  },
  {
   "cell_type": "markdown",
   "id": "4c69ac92-e5c1-4410-a65e-7bbf89ea93b7",
   "metadata": {},
   "source": [
    "**Task 2**\n",
    "\n",
    "Incorporate your previous code into a function named `rename_my_file(old_file_name)` that **accepts** the **old filename** as the argument and **returns** the **new filename**."
   ]
  },
  {
   "cell_type": "code",
   "execution_count": 48,
   "id": "f8ff189e-2e50-414b-8427-bc58e19712b8",
   "metadata": {},
   "outputs": [],
   "source": [
    "def rename_my_file(old_file_name):\n",
    "    try:\n",
    "        path = os.path.split(old_file_name)[0]\n",
    "        filename = os.path.split(old_file_name)[-1]\n",
    "        old_name_only = filename.split('.')[0]\n",
    "        extension = filename.split('.')[-1]  \n",
    "        city = old_name_only.split('_')[-1]\n",
    "        date = old_name_only.split('_')[0]\n",
    "        month = date.split('-')[0]\n",
    "        mm = months_info[month]\n",
    "        dd = date.split('-')[1]\n",
    "        new_file_name = f\"{mm}-{dd}-{city}.{extension}\"\n",
    "        new_path = os.path.join(path, new_file_name)\n",
    "        return new_path\n",
    "    except:\n",
    "        return old_file_name"
   ]
  },
  {
   "cell_type": "markdown",
   "id": "fbe10c46-f949-470e-ad25-49b51ceafc57",
   "metadata": {},
   "source": [
    "**Task 3**\n",
    "\n",
    "Use a `for` loop to apply the function `rename_my_file()` to the file list below. Print out your progress in the form `old-file-name` ----> `new-file-name`"
   ]
  },
  {
   "cell_type": "code",
   "execution_count": 23,
   "id": "2bf11c50-b66b-4d3c-8dae-b0b49c3bae8e",
   "metadata": {},
   "outputs": [],
   "source": [
    "list = ['oct-08_singapore.txt', 'jul-10_cairo.txt', 'may-15_dhaka.txt',\n",
    " 'may-13_cairo.txt', 'oct-21_cairo.txt', 'jan-10_singapore.txt',\n",
    " 'jun-20_tokyo.txt', 'aug-06_jakarta.txt', 'dec-21_karachi.txt',\n",
    " 'jan-01_tokyo.txt']"
   ]
  },
  {
   "cell_type": "code",
   "execution_count": 49,
   "id": "3ab979b1-e61a-4c17-a2ba-32dd55757481",
   "metadata": {},
   "outputs": [
    {
     "name": "stdout",
     "output_type": "stream",
     "text": [
      "oct-08_singapore.txt ----> 10-08-singapore.txt\n",
      "jul-10_cairo.txt ----> 07-10-cairo.txt\n",
      "may-15_dhaka.txt ----> 05-15-dhaka.txt\n",
      "may-13_cairo.txt ----> 05-13-cairo.txt\n",
      "oct-21_cairo.txt ----> 10-21-cairo.txt\n",
      "jan-10_singapore.txt ----> 01-10-singapore.txt\n",
      "jun-20_tokyo.txt ----> 06-20-tokyo.txt\n",
      "aug-06_jakarta.txt ----> 08-06-jakarta.txt\n",
      "dec-21_karachi.txt ----> 12-21-karachi.txt\n",
      "jan-01_tokyo.txt ----> 01-01-tokyo.txt\n"
     ]
    }
   ],
   "source": [
    "for old_file_name in list:\n",
    "    new_file_name = rename_my_file(old_file_name)\n",
    "    print(f\"{old_file_name} ----> {new_file_name}\")"
   ]
  },
  {
   "cell_type": "markdown",
   "id": "cf2946d3-0440-44f7-b13b-708c28c52881",
   "metadata": {},
   "source": [
    "**Task 4**\n",
    "\n",
    "With the help of `glob`, use `rename_my_file()` to rename *all* the `.txt` files in the folder.\n",
    "\n",
    "Note that you might have to adjust your function `rename_my_file()` to accommodate the already renamed files."
   ]
  },
  {
   "cell_type": "code",
   "execution_count": 54,
   "id": "c5f1b5e2-0382-47a6-a853-76f3e1797376",
   "metadata": {},
   "outputs": [],
   "source": [
    "files = glob.glob('**/*.txt',recursive = True)\n",
    "for old_name in files:\n",
    "    new_name = rename_my_file(old_name)\n",
    "    #print(old_name,\"          \", new_name)\n",
    "    os.rename(old_name, new_name)"
   ]
  },
  {
   "cell_type": "markdown",
   "id": "674c1bf0-21f9-4477-85c5-772fdbc42fac",
   "metadata": {},
   "source": [
    "**Task 5**\n",
    "\n",
    "Use a `for` loop to create a folder for each city."
   ]
  },
  {
   "cell_type": "code",
   "execution_count": 41,
   "id": "9a1cea0c-90db-49cf-814b-8aa0b916a7a0",
   "metadata": {},
   "outputs": [],
   "source": [
    "cities = ['Cairo', 'Dhaka', 'Jakarta', 'Karachi', 'Manila',\n",
    " 'Melbourne', 'Osaka', 'Shanghai', 'Singapore', 'Tokyo']"
   ]
  },
  {
   "cell_type": "code",
   "execution_count": 53,
   "id": "68fce355-c0c3-4c97-8b00-8034b6f3821b",
   "metadata": {},
   "outputs": [],
   "source": [
    "for city in cities:\n",
    "    path = os.path.join('os-collaboration-exercise-data', city)\n",
    "    os.mkdir(path)"
   ]
  },
  {
   "cell_type": "markdown",
   "id": "38f63872-e283-4350-b287-3b04f8594ef4",
   "metadata": {},
   "source": [
    "**Task 6**\n",
    "\n",
    "Use `glob` to list all the files from *Cairo*.\n",
    "Now use a `for` loop and `shutil.copy()` to *copy* all the files related to Cairo to the corresponding folder you created."
   ]
  },
  {
   "cell_type": "code",
   "execution_count": null,
   "id": "2792c3dc-7553-4115-a866-6ca3809a38fc",
   "metadata": {},
   "outputs": [],
   "source": []
  },
  {
   "cell_type": "markdown",
   "id": "f24e3352-0cef-4c94-8a01-906bba7fcfb4",
   "metadata": {},
   "source": [
    "**Task 7**\n",
    "\n",
    "Tweak your code to **move all** the files to the corresponding folders of all the cities."
   ]
  },
  {
   "cell_type": "code",
   "execution_count": null,
   "id": "99793d35-16f4-4664-9ca6-120e5f79ea31",
   "metadata": {},
   "outputs": [],
   "source": []
  }
 ],
 "metadata": {
  "kernelspec": {
   "display_name": "Python 3 (ipykernel)",
   "language": "python",
   "name": "python3"
  },
  "language_info": {
   "codemirror_mode": {
    "name": "ipython",
    "version": 3
   },
   "file_extension": ".py",
   "mimetype": "text/x-python",
   "name": "python",
   "nbconvert_exporter": "python",
   "pygments_lexer": "ipython3",
   "version": "3.11.5"
  },
  "toc": {
   "base_numbering": 1,
   "nav_menu": {},
   "number_sections": true,
   "sideBar": true,
   "skip_h1_title": false,
   "title_cell": "Table of Contents",
   "title_sidebar": "Contents",
   "toc_cell": false,
   "toc_position": {},
   "toc_section_display": true,
   "toc_window_display": false
  },
  "vscode": {
   "interpreter": {
    "hash": "31f2aee4e71d21fbe5cf8b01ff0e069b9275f58929596ceb00d14d90e3e16cd6"
   }
  }
 },
 "nbformat": 4,
 "nbformat_minor": 5
}
