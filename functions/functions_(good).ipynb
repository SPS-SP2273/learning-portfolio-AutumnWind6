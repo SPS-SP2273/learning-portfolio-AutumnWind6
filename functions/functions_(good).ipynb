{
 "cells": [
  {
   "attachments": {},
   "cell_type": "markdown",
   "id": "123456",
   "metadata": {},
   "source": [
    "<div style=\"text-align:left;font-size:2em\"><span style=\"font-weight:bolder;font-size:1.25em\">SP2273 | Learning Portfolio</span><br><br><span style=\"font-weight:bold;color:darkred\">Functions (Good)</span></div>"
   ]
  },
  {
   "attachments": {},
   "cell_type": "markdown",
   "id": "063af650",
   "metadata": {},
   "source": [
    "# What to expect in this chapter"
   ]
  },
  {
   "attachments": {},
   "cell_type": "markdown",
   "id": "ad1adda1",
   "metadata": {},
   "source": [
    "# 1 Checks, balances, and contingencies"
   ]
  },
  {
   "attachments": {},
   "cell_type": "markdown",
   "id": "616c332b",
   "metadata": {},
   "source": [
    "## 1.1 assert"
   ]
  },
  {
   "cell_type": "code",
   "execution_count": 5,
   "id": "4e219d14-9ab0-4e2c-939a-6593a2c22ecb",
   "metadata": {},
   "outputs": [],
   "source": [
    "# basic syntax\n",
    "# assert condition-to-check, message"
   ]
  },
  {
   "cell_type": "code",
   "execution_count": 4,
   "id": "0ef37a77-affc-4604-abf3-d9362ef1a236",
   "metadata": {},
   "outputs": [
    {
     "name": "stdout",
     "output_type": "stream",
     "text": [
      "Hi\n"
     ]
    }
   ],
   "source": [
    "x=10\n",
    "assert x >= 0, \"x is becoming negative!\"\n",
    "print('Hi')"
   ]
  },
  {
   "cell_type": "code",
   "execution_count": 7,
   "id": "15da58f8-cbde-452f-ae71-3302492ae43c",
   "metadata": {},
   "outputs": [
    {
     "ename": "AssertionError",
     "evalue": "x is becoming negative!",
     "output_type": "error",
     "traceback": [
      "\u001b[1;31m---------------------------------------------------------------------------\u001b[0m",
      "\u001b[1;31mAssertionError\u001b[0m                            Traceback (most recent call last)",
      "Cell \u001b[1;32mIn[7], line 2\u001b[0m\n\u001b[0;32m      1\u001b[0m x \u001b[38;5;241m=\u001b[39m \u001b[38;5;241m-\u001b[39m\u001b[38;5;241m1\u001b[39m\n\u001b[1;32m----> 2\u001b[0m \u001b[38;5;28;01massert\u001b[39;00m x \u001b[38;5;241m>\u001b[39m\u001b[38;5;241m=\u001b[39m \u001b[38;5;241m0\u001b[39m, \u001b[38;5;124m\"\u001b[39m\u001b[38;5;124mx is becoming negative!\u001b[39m\u001b[38;5;124m\"\u001b[39m\n\u001b[0;32m      3\u001b[0m \u001b[38;5;28mprint\u001b[39m(\u001b[38;5;124m'\u001b[39m\u001b[38;5;124mHi\u001b[39m\u001b[38;5;124m'\u001b[39m)\n",
      "\u001b[1;31mAssertionError\u001b[0m: x is becoming negative!"
     ]
    }
   ],
   "source": [
    "x = -1\n",
    "assert x >= 0, \"x is becoming negative!\"\n",
    "print('Hi')"
   ]
  },
  {
   "attachments": {},
   "cell_type": "markdown",
   "id": "1203a62c",
   "metadata": {},
   "source": [
    "## 1.2 try-except"
   ]
  },
  {
   "cell_type": "code",
   "execution_count": 2,
   "id": "ee0acf31-d2ce-4539-bcf2-fb8194d73d78",
   "metadata": {},
   "outputs": [
    {
     "name": "stdin",
     "output_type": "stream",
     "text": [
      "Give me a number and I will calculate its square: 234\n"
     ]
    },
    {
     "name": "stdout",
     "output_type": "stream",
     "text": [
      "The square of 234 is 54756!\n"
     ]
    }
   ],
   "source": [
    "number=input(\"Give me a number and I will calculate its square:\")\n",
    "square=int(number)**2              # Convert English to number\n",
    "print(f'The square of {number} is {square}!')"
   ]
  },
  {
   "cell_type": "code",
   "execution_count": 3,
   "id": "ab4e4553-3eec-4d86-aecd-2aa048239ac0",
   "metadata": {},
   "outputs": [
    {
     "name": "stdin",
     "output_type": "stream",
     "text": [
      "Give me a number and I will calculate its square. df\n"
     ]
    },
    {
     "name": "stdout",
     "output_type": "stream",
     "text": [
      "Oh oh! I cannot square df!\n"
     ]
    }
   ],
   "source": [
    "try:\n",
    "    number=input(\"Give me a number and I will calculate its square.\")\n",
    "    square=int(number)**2\n",
    "    print(f'The square of {number} is {square}!')\n",
    "except:\n",
    "    print(f\"Oh oh! I cannot square {number}!\")"
   ]
  },
  {
   "attachments": {},
   "cell_type": "markdown",
   "id": "c460ba3a",
   "metadata": {},
   "source": [
    "## 1.3 A simple suggestion"
   ]
  },
  {
   "cell_type": "markdown",
   "id": "b56f7bcb-f773-482f-87b1-af1385744893",
   "metadata": {},
   "source": [
    "Use `print()` to understand inner workings of code"
   ]
  },
  {
   "attachments": {},
   "cell_type": "markdown",
   "id": "f90ab22c",
   "metadata": {},
   "source": [
    "# 2 Some loose ends"
   ]
  },
  {
   "attachments": {},
   "cell_type": "markdown",
   "id": "e73626b8",
   "metadata": {},
   "source": [
    "## 2.1 Positional, keyword and default arguments"
   ]
  },
  {
   "cell_type": "code",
   "execution_count": 1,
   "id": "da76ef55-00b8-482b-99be-105fd8176977",
   "metadata": {},
   "outputs": [],
   "source": [
    "def side_by_side(a, b, c=42):\n",
    "    return f'{a: 2d}|{b: 2d}|{c: 2d}'"
   ]
  },
  {
   "cell_type": "markdown",
   "id": "3d73563b-d045-4711-8f78-eecede7c3856",
   "metadata": {},
   "source": [
    "**Positional**\n",
    "\n",
    "Assign `1,2,3` to `a,b,c` using the positional order of the arguments"
   ]
  },
  {
   "cell_type": "code",
   "execution_count": 2,
   "id": "49f91275-cb6f-47f8-a8cb-ca20b9a400b3",
   "metadata": {},
   "outputs": [
    {
     "data": {
      "text/plain": [
       "' 1| 2| 3'"
      ]
     },
     "execution_count": 2,
     "metadata": {},
     "output_type": "execute_result"
    }
   ],
   "source": [
    "side_by_side(1, 2, 3)"
   ]
  },
  {
   "cell_type": "markdown",
   "id": "63f930d4-8f47-466c-9c71-0545810410ee",
   "metadata": {},
   "source": [
    "**Keywords**\n",
    "\n",
    "Explicitly specify the keyword to assign the values to each of a, b, c. (order does not matter)"
   ]
  },
  {
   "cell_type": "code",
   "execution_count": 4,
   "id": "39a22ff7-c80e-4c18-b040-e65ba9f6e51f",
   "metadata": {},
   "outputs": [
    {
     "data": {
      "text/plain": [
       "' 2| 1| 3'"
      ]
     },
     "execution_count": 4,
     "metadata": {},
     "output_type": "execute_result"
    }
   ],
   "source": [
    "side_by_side(c=3, b=1, a=2)"
   ]
  },
  {
   "cell_type": "markdown",
   "id": "6b92b97b-9930-4e94-a97f-e06c626ad8a1",
   "metadata": {},
   "source": [
    "**Default**\n",
    "\n",
    "Don't specify the optional value."
   ]
  },
  {
   "cell_type": "code",
   "execution_count": 8,
   "id": "1947fc2d-b302-433e-92fe-ecb97eeab0f9",
   "metadata": {},
   "outputs": [
    {
     "data": {
      "text/plain": [
       "' 1| 2| 42'"
      ]
     },
     "execution_count": 8,
     "metadata": {},
     "output_type": "execute_result"
    }
   ],
   "source": [
    "side_by_side(1, b=2)  #cannot swap around"
   ]
  },
  {
   "cell_type": "code",
   "execution_count": 6,
   "id": "e26652ab-3787-43f0-9119-c71dbfd47e7f",
   "metadata": {},
   "outputs": [
    {
     "data": {
      "text/plain": [
       "' 1| 2| 42'"
      ]
     },
     "execution_count": 6,
     "metadata": {},
     "output_type": "execute_result"
    }
   ],
   "source": [
    "side_by_side(1, 2)           # Two positional, 1 default\n",
    "## ' 1| 2| 42'\n",
    "side_by_side(1, 2, 3)        # Three positional\n",
    "## ' 1| 2| 3'\n",
    "side_by_side(a=1, b=2)       # Two keyword, 1 default\n",
    "## ' 1| 2| 42'\n",
    "side_by_side(c=3, b=1, a=2)  # Three keyword\n",
    "## ' 2| 1| 3'\n",
    "side_by_side(1, c=3, b=2)    # One positional, 2 keyword\n",
    "## ' 1| 2| 3'\n",
    "side_by_side(1, b=2)         # One positional, 1 keyword, 1 default\n",
    "## ' 1| 2| 42'"
   ]
  },
  {
   "attachments": {},
   "cell_type": "markdown",
   "id": "42f560e3",
   "metadata": {},
   "source": [
    "## 2.2 Docstrings"
   ]
  },
  {
   "cell_type": "markdown",
   "id": "1c40258f-366f-4b7b-9613-9158cbb715df",
   "metadata": {},
   "source": [
    "Python has a docstring feature that allows us to document what a function does inside the function. This documentation (i.e., the docstring) is displayed when we ask Python to show us the help info using `help()`.\n",
    "\n",
    "A docstring needs to be sandwiched between a pair of `'''` (or `\"\"\"`) and can span multiple lines."
   ]
  },
  {
   "cell_type": "code",
   "execution_count": 9,
   "id": "c433930e-f427-4db5-86d8-dace42de0139",
   "metadata": {},
   "outputs": [],
   "source": [
    "def side_by_side(a, b, c=42):\n",
    "    '''\n",
    "    A test function to demonstrate how \n",
    "    positional, keyword and default arguments \n",
    "    work.\n",
    "    '''\n",
    "    return f'{a: 2d}|{b: 2d}|{c: 2d}'"
   ]
  },
  {
   "cell_type": "code",
   "execution_count": 10,
   "id": "53c97751-45d5-43aa-b28d-f142d04352d2",
   "metadata": {},
   "outputs": [
    {
     "name": "stdout",
     "output_type": "stream",
     "text": [
      "Help on function side_by_side in module __main__:\n",
      "\n",
      "side_by_side(a, b, c=42)\n",
      "    A test function to demonstrate how \n",
      "    positional, keyword and default arguments \n",
      "    work.\n",
      "\n"
     ]
    }
   ],
   "source": [
    "help(side_by_side)"
   ]
  },
  {
   "attachments": {},
   "cell_type": "markdown",
   "id": "d8567f37",
   "metadata": {},
   "source": [
    "## 2.3 Function are first-class citizens"
   ]
  },
  {
   "cell_type": "markdown",
   "id": "14571b0b-7cab-40dc-9548-3deb47fb99c0",
   "metadata": {},
   "source": [
    "Python functions are called first-class citizens because they have the same privileges as variables. This opens up useful possibilities for scientific programming because we can **pass a function as an argument to another function**!\n",
    "\n",
    "Note: When we pass a function as an argument, we do **not** include the parenthesis `()`."
   ]
  },
  {
   "cell_type": "code",
   "execution_count": 12,
   "id": "3d64da35-e496-4a9d-bad8-5f99b1e4e3ad",
   "metadata": {},
   "outputs": [
    {
     "data": {
      "text/plain": [
       "-1.0"
      ]
     },
     "execution_count": 12,
     "metadata": {},
     "output_type": "execute_result"
    }
   ],
   "source": [
    "import numpy as np\n",
    "\n",
    "def my_function(angle, trig_function):\n",
    "        return trig_function(angle)\n",
    "\n",
    "# Let's use the function\n",
    "my_function(np.pi/2, np.sin)        \n",
    "## 1.0\n",
    "my_function(np.pi/2, np.cos)        \n",
    "## 6.123233995736766e-17\n",
    "my_function(np.pi/2, lambda x: np.cos(2*x))  \n",
    "## -1.0"
   ]
  },
  {
   "cell_type": "code",
   "execution_count": 14,
   "id": "9c48a517-97d7-4cf5-95bb-09cfa90d917d",
   "metadata": {},
   "outputs": [
    {
     "name": "stdout",
     "output_type": "stream",
     "text": [
      "1.5707963267948966\n"
     ]
    }
   ],
   "source": [
    "def my_function(angle, input_function):\n",
    "        return input_function(angle)\n",
    "\n",
    "my_function(np.pi/2, print)  "
   ]
  },
  {
   "attachments": {},
   "cell_type": "markdown",
   "id": "f924153c",
   "metadata": {},
   "source": [
    "## 2.4 More about unpacking"
   ]
  },
  {
   "cell_type": "markdown",
   "id": "65fcc0d2-e6a1-477e-bc8a-428a565c811a",
   "metadata": {},
   "source": [
    "Extract info from lists and arrays easily"
   ]
  },
  {
   "cell_type": "code",
   "execution_count": 13,
   "id": "9e0dc517-3a5c-4188-8ab3-62bcd0ee8c6e",
   "metadata": {},
   "outputs": [
    {
     "data": {
      "text/plain": [
       "(1, 2, 3)"
      ]
     },
     "execution_count": 13,
     "metadata": {},
     "output_type": "execute_result"
    }
   ],
   "source": [
    "x, y, z = [1, 2, 3]\n",
    "x, y, z"
   ]
  },
  {
   "cell_type": "code",
   "execution_count": 15,
   "id": "1674c46c-9dfe-4967-98be-e6f0ce70d9cc",
   "metadata": {},
   "outputs": [
    {
     "data": {
      "text/plain": [
       "(1, 2, 3)"
      ]
     },
     "execution_count": 15,
     "metadata": {},
     "output_type": "execute_result"
    }
   ],
   "source": [
    "x, y, z = np.array([1, 2, 3])\n",
    "x, y, z"
   ]
  },
  {
   "cell_type": "code",
   "execution_count": 17,
   "id": "15fac30e-7826-4193-a809-88a3fef965aa",
   "metadata": {},
   "outputs": [
    {
     "data": {
      "text/plain": [
       "(1, [2, 3, 4], 5)"
      ]
     },
     "execution_count": 17,
     "metadata": {},
     "output_type": "execute_result"
    }
   ],
   "source": [
    "x, *y, z = np.array([1, 2, 3, 4, 5])\n",
    "x, y, z"
   ]
  },
  {
   "cell_type": "code",
   "execution_count": 18,
   "id": "1c6899ac-7623-40c1-ab93-bb506ffd91ed",
   "metadata": {},
   "outputs": [
    {
     "data": {
      "text/plain": [
       "(1, 5)"
      ]
     },
     "execution_count": 18,
     "metadata": {},
     "output_type": "execute_result"
    }
   ],
   "source": [
    "x, *_, y = [1, 2, 3, 4, 5]\n",
    "x, y"
   ]
  }
 ],
 "metadata": {
  "kernelspec": {
   "display_name": "Python 3 (ipykernel)",
   "language": "python",
   "name": "python3"
  },
  "language_info": {
   "codemirror_mode": {
    "name": "ipython",
    "version": 3
   },
   "file_extension": ".py",
   "mimetype": "text/x-python",
   "name": "python",
   "nbconvert_exporter": "python",
   "pygments_lexer": "ipython3",
   "version": "3.11.5"
  },
  "toc": {
   "base_numbering": 1,
   "nav_menu": {},
   "number_sections": true,
   "sideBar": true,
   "skip_h1_title": false,
   "title_cell": "Table of Contents",
   "title_sidebar": "Contents",
   "toc_cell": false,
   "toc_position": {},
   "toc_section_display": true,
   "toc_window_display": false
  },
  "vscode": {
   "interpreter": {
    "hash": "31f2aee4e71d21fbe5cf8b01ff0e069b9275f58929596ceb00d14d90e3e16cd6"
   }
  }
 },
 "nbformat": 4,
 "nbformat_minor": 5
}
