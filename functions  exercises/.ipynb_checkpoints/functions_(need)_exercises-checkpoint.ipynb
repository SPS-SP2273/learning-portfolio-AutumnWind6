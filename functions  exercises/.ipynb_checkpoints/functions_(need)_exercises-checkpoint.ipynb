{
 "cells": [
  {
   "attachments": {},
   "cell_type": "markdown",
   "id": "123456",
   "metadata": {},
   "source": [
    "<div style=\"text-align:left;font-size:2em\"><span style=\"font-weight:bolder;font-size:1.25em\">SP2273 | Learning Portfolio</span><br><br><span style=\"font-weight:bold;color:darkred\">Functions (Need) Exercises</span></div>"
   ]
  },
  {
   "cell_type": "markdown",
   "id": "7a061455-6653-4007-9e81-746e8f73b4ae",
   "metadata": {},
   "source": [
    "**Exercise 1 (Do you know why?)**\n",
    "\n",
    "The following code works as expected despite not having an else statement. Please use a Markdown cell to explain why?"
   ]
  },
  {
   "cell_type": "code",
   "execution_count": 1,
   "id": "befdd014-2ec5-4ffe-a0e9-6125fd6ea211",
   "metadata": {},
   "outputs": [],
   "source": [
    "def greeting(name):\n",
    "    if name == 'Batman':\n",
    "        return 'Hello Batman! So, nice to meet you!'\n",
    "    return f'Hello {name}!'"
   ]
  },
  {
   "cell_type": "markdown",
   "id": "f22f6715-8f86-4d80-b0e8-826b8017b624",
   "metadata": {},
   "source": [
    "If the input name is 'Batman', it will satisfy the `if` condition and run the next line to return 'Hellow Batman! So, nice to meet you!'. `return` also causes the code to exit the function, thus the code will not run the following line. Therefore, the following line that returns 'Hello (name)!' will only run if the `if` condition is not satisfied and thus acts as if it is under an `else` statement."
   ]
  },
  {
   "cell_type": "markdown",
   "id": "ec9c6656-8164-4293-915f-1d213f9450b1",
   "metadata": {},
   "source": [
    "**Exercise 2 (Chubby or not)**\n",
    "\n",
    "Write a Python function named `calculate_bmi`.\n",
    "\n",
    "The function should take two parameters:\n",
    "- weight (in kilograms) and height (in meters).\n",
    "- The function should calculate the BMI (Body Mass Index) using the formula BMI = weight / (height ** 2).\n",
    "- Based on the calculated BMI, the function should return a string indicating the BMI category based on the following criteria:\n",
    "\n",
    "|Category\t|BMI Range|\n",
    "|:---|:--|\n",
    "|Underweight|\tBMI less than 18.5|\n",
    "|Normal weight|\tBMI between 18.5 and 24.9|\n",
    "|Overweight\t|BMI between 25 and 29.9|\n",
    "|Obesity|\tBMI 30 or more|"
   ]
  },
  {
   "cell_type": "code",
   "execution_count": 2,
   "id": "1b2bc1b1-efc9-470d-afb2-ea1cb6872cb8",
   "metadata": {},
   "outputs": [],
   "source": [
    "def calculate_bmi(weight,height):\n",
    "    BMI = weight / (height ** 2)\n",
    "    if BMI < 18.5:\n",
    "        return 'Underweight'\n",
    "    if BMI < 24.9:\n",
    "        return 'Normal weight'\n",
    "    if BMI < 29.9:\n",
    "        return 'Overweight'\n",
    "    return 'Obesity'"
   ]
  },
  {
   "cell_type": "code",
   "execution_count": 10,
   "id": "9f391880-6faa-4929-a744-583c5b76b49e",
   "metadata": {},
   "outputs": [
    {
     "data": {
      "text/plain": [
       "'Normal weight'"
      ]
     },
     "execution_count": 10,
     "metadata": {},
     "output_type": "execute_result"
    }
   ],
   "source": [
    "#test function\n",
    "\n",
    "calculate_bmi(45,1.5)"
   ]
  }
 ],
 "metadata": {
  "kernelspec": {
   "display_name": "Python 3 (ipykernel)",
   "language": "python",
   "name": "python3"
  },
  "language_info": {
   "codemirror_mode": {
    "name": "ipython",
    "version": 3
   },
   "file_extension": ".py",
   "mimetype": "text/x-python",
   "name": "python",
   "nbconvert_exporter": "python",
   "pygments_lexer": "ipython3",
   "version": "3.11.5"
  },
  "toc": {
   "base_numbering": 1,
   "nav_menu": {},
   "number_sections": true,
   "sideBar": true,
   "skip_h1_title": false,
   "title_cell": "Table of Contents",
   "title_sidebar": "Contents",
   "toc_cell": false,
   "toc_position": {},
   "toc_section_display": true,
   "toc_window_display": false
  },
  "vscode": {
   "interpreter": {
    "hash": "31f2aee4e71d21fbe5cf8b01ff0e069b9275f58929596ceb00d14d90e3e16cd6"
   }
  }
 },
 "nbformat": 4,
 "nbformat_minor": 5
}
