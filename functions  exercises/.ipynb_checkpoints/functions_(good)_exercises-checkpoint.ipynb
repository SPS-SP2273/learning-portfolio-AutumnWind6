{
 "cells": [
  {
   "attachments": {},
   "cell_type": "markdown",
   "id": "123456",
   "metadata": {},
   "source": [
    "<div style=\"text-align:left;font-size:2em\"><span style=\"font-weight:bolder;font-size:1.25em\">SP2273 | Learning Portfolio</span><br><br><span style=\"font-weight:bold;color:darkred\">Functions (Good) Exercises</span></div>"
   ]
  },
  {
   "cell_type": "markdown",
   "id": "a631ccc8-f85b-4b34-8993-dc2a909401dc",
   "metadata": {},
   "source": [
    "**Exercise 1 (Celsius to Fahrenheit or Kelvin)**\n",
    "\n",
    "Develop a function named `convert_celsius()` to convert temperatures from Celsius to either Fahrenheit or Kelvin.\n",
    "\n",
    "The function should take two arguments:\n",
    "- `temperature_celsius`: The temperature in Celsius.\n",
    "- `target_scale` (string): The target scale for conversion, with the default value set to `'Fahrenheit'`.\n",
    "\n",
    "The function should return the temperature in Kelvin if `target_scale` is `'Kelvin'`; otherwise, it should return the temperature in Fahrenheit."
   ]
  },
  {
   "cell_type": "code",
   "execution_count": 5,
   "id": "de789f35-6b17-4e3e-b69d-5d98b33d3f05",
   "metadata": {},
   "outputs": [],
   "source": [
    "def convert_celsius(temperature_celsius, target_scale = 'Fahrenheit'):\n",
    "    if target_scale == 'Kelvin':\n",
    "        temp = temperature_celsius + 273.15\n",
    "        return temp\n",
    "    temp = (9/5 * temperature_celsius) + 32\n",
    "    return temp"
   ]
  },
  {
   "cell_type": "code",
   "execution_count": 14,
   "id": "1fb65219-4ff4-4c6d-a57f-e79f834ae9dc",
   "metadata": {},
   "outputs": [
    {
     "data": {
      "text/plain": [
       "298.15"
      ]
     },
     "execution_count": 14,
     "metadata": {},
     "output_type": "execute_result"
    }
   ],
   "source": [
    "#test function\n",
    "convert_celsius(25, 'Kelvin')"
   ]
  },
  {
   "cell_type": "markdown",
   "id": "ab8be4a4-69ae-41c6-ba3b-f3b0026c301c",
   "metadata": {},
   "source": [
    "**Exercise 2 (Fahrenheit to Celsius or Kelvin)**\n",
    "\n",
    "Develop a function called `convert_fahrenheit()` for converting temperatures from Fahrenheit to either Celsius or Kelvin.\n",
    "\n",
    "The function should take two arguments:\n",
    "- `temperature_fahrenheit`: The temperature in Fahrenheit.\n",
    "- `target_scale` (string): The target scale for conversion, defaulting to `'Celsius'`.\n",
    "\n",
    "The function should return the temperature in Kelvin if `target_scale` is `'Kelvin'`; otherwise, return it in Celsius."
   ]
  },
  {
   "cell_type": "code",
   "execution_count": 30,
   "id": "06f3646f-66ef-47b2-a14d-9b070bd027c2",
   "metadata": {},
   "outputs": [],
   "source": [
    "def convert_fahrenheit(temperature_fahrenheit, target_scale = 'Celsius'):\n",
    "    temp_c = 5/9 * (temperature_fahrenheit - 32)\n",
    "    if target_scale == 'Kelvin':\n",
    "        temp = temp_c + 273.15\n",
    "        return temp\n",
    "    return temp_c"
   ]
  },
  {
   "cell_type": "code",
   "execution_count": 36,
   "id": "8793ebd9-6b44-484b-9629-3577fc75ff06",
   "metadata": {},
   "outputs": [
    {
     "data": {
      "text/plain": [
       "273.15"
      ]
     },
     "execution_count": 36,
     "metadata": {},
     "output_type": "execute_result"
    }
   ],
   "source": [
    "#test function\n",
    "convert_fahrenheit(32,'Kelvin')"
   ]
  },
  {
   "cell_type": "markdown",
   "id": "5b5d542b-bb32-494c-89ef-41b0cff2f83e",
   "metadata": {},
   "source": [
    "**Exercise 3 (General Temperature Conversion)**\n",
    "\n",
    "Implement a function named `convert_temperature()` to perform general temperature conversions.\n",
    "\n",
    "The function should take three arguments:\n",
    "- `temperature`: The temperature to be converted.\n",
    "- `source_scale` (string): The scale of the input temperature (either `'Celsius'`, `'Fahrenheit'`, or `'Kelvin'`).\n",
    "- `target_scale` (string): The desired scale for the output temperature.\n",
    "\n",
    "Remember to reuse your previous functions!"
   ]
  },
  {
   "cell_type": "code",
   "execution_count": 31,
   "id": "959ed072-81d8-4132-86d8-2c12f1961823",
   "metadata": {},
   "outputs": [],
   "source": [
    "def convert_temperature(temperature, source_scale, target_scale):\n",
    "    if source_scale == target_scale:\n",
    "        return temperature\n",
    "        \n",
    "    if source_scale == 'Celsius':\n",
    "        return convert_celsius(temperature, target_scale)\n",
    "        \n",
    "    if source_scale == 'Kelvin':\n",
    "        temp_c = temperature - 273.15  #kelvin to celsius\n",
    "        if target_scale == 'Celsius':\n",
    "            return temp_c\n",
    "        return convert_celsius(temp_c)  #celsius to fahrenheit\n",
    "        \n",
    "    if target_scale == 'Celsius':\n",
    "        return convert_fahrenheit(temperature, target_scale)\n",
    "    return convert_fahrenheit(temperature, target_scale)"
   ]
  },
  {
   "cell_type": "code",
   "execution_count": 32,
   "id": "dac7da64-0131-4ab2-b657-c91545f5adf9",
   "metadata": {},
   "outputs": [
    {
     "name": "stdout",
     "output_type": "stream",
     "text": [
      "298.15\n",
      "77.0\n",
      "273.15\n",
      "32.0\n",
      "0.0\n",
      "273.15\n",
      "0.0\n"
     ]
    }
   ],
   "source": [
    "#test function\n",
    "\n",
    "print(convert_temperature(25,'Celsius','Kelvin'))\n",
    "print(convert_temperature(25,'Celsius','Fahrenheit'))\n",
    "print(convert_temperature(273.15,'Kelvin','Kelvin'))\n",
    "print(convert_temperature(273.15,'Kelvin','Fahrenheit'))\n",
    "print(convert_temperature(273.15,'Kelvin','Celsius'))\n",
    "print(convert_temperature(32,'Fahrenheit','Kelvin'))\n",
    "print(convert_temperature(32,'Fahrenheit','Celsius'))"
   ]
  }
 ],
 "metadata": {
  "kernelspec": {
   "display_name": "Python 3 (ipykernel)",
   "language": "python",
   "name": "python3"
  },
  "language_info": {
   "codemirror_mode": {
    "name": "ipython",
    "version": 3
   },
   "file_extension": ".py",
   "mimetype": "text/x-python",
   "name": "python",
   "nbconvert_exporter": "python",
   "pygments_lexer": "ipython3",
   "version": "3.11.5"
  },
  "toc": {
   "base_numbering": 1,
   "nav_menu": {},
   "number_sections": true,
   "sideBar": true,
   "skip_h1_title": false,
   "title_cell": "Table of Contents",
   "title_sidebar": "Contents",
   "toc_cell": false,
   "toc_position": {},
   "toc_section_display": true,
   "toc_window_display": false
  },
  "vscode": {
   "interpreter": {
    "hash": "31f2aee4e71d21fbe5cf8b01ff0e069b9275f58929596ceb00d14d90e3e16cd6"
   }
  }
 },
 "nbformat": 4,
 "nbformat_minor": 5
}
