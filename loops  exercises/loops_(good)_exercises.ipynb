{
 "cells": [
  {
   "attachments": {},
   "cell_type": "markdown",
   "id": "123456",
   "metadata": {},
   "source": [
    "<div style=\"text-align:left;font-size:2em\"><span style=\"font-weight:bolder;font-size:1.25em\">SP2273 | Learning Portfolio</span><br><br><span style=\"font-weight:bold;color:darkred\">Loops (Good) Exercises</span></div>"
   ]
  },
  {
   "cell_type": "markdown",
   "id": "02f948e9-b682-41a3-80b2-5cc452ebc493",
   "metadata": {},
   "source": [
    "**Exercise 1 (Make me an odd list)**\n",
    "\n",
    "With your knowledge of growing lists, use a for loop with range() and continue to generate a list of the squares of the odd integers from 0 to 9."
   ]
  },
  {
   "cell_type": "code",
   "execution_count": 1,
   "id": "8fc0a979-c5c4-4b03-8362-f304dce5ba68",
   "metadata": {},
   "outputs": [
    {
     "name": "stdout",
     "output_type": "stream",
     "text": [
      "[1, 9, 25, 49, 81]\n"
     ]
    }
   ],
   "source": [
    "list = []\n",
    "for count in range(0,10):\n",
    "    if count % 2 == 0:\n",
    "        continue\n",
    "    list.append(count**2)\n",
    "\n",
    "print(list)"
   ]
  },
  {
   "cell_type": "markdown",
   "id": "0c1c8fa4-ef8c-4454-9238-8bed702cd29a",
   "metadata": {},
   "source": [
    "**Exercise 2 (Make me another odd list)**\n",
    "\n",
    "Redo the previous exercise using list comprehension."
   ]
  },
  {
   "cell_type": "code",
   "execution_count": 2,
   "id": "58c7a30d-b441-4875-b0b1-172c7e2960cc",
   "metadata": {},
   "outputs": [
    {
     "data": {
      "text/plain": [
       "[1, 9, 25, 49, 81]"
      ]
     },
     "execution_count": 2,
     "metadata": {},
     "output_type": "execute_result"
    }
   ],
   "source": [
    "[number**2 for number in range(0,10)if number%2 != 0]"
   ]
  },
  {
   "cell_type": "markdown",
   "id": "86a76bec-ff4a-48a2-979d-85dbf39afbe1",
   "metadata": {},
   "source": [
    "**Exercise 3 (Time me!)**\n",
    "\n",
    "Use the cell magic command %%timeit to time the previous solutions. Which of the two is faster?\n",
    "\n",
    "Ans: Using a `for` loop is faster than list comprehension. List comprehension also has a larger standard deviation."
   ]
  },
  {
   "cell_type": "code",
   "execution_count": 14,
   "id": "d75d03c9-e29e-42a6-b1fe-35870555962c",
   "metadata": {},
   "outputs": [
    {
     "name": "stdout",
     "output_type": "stream",
     "text": [
      "977 ns ± 16 ns per loop (mean ± std. dev. of 7 runs, 1,000,000 loops each)\n"
     ]
    }
   ],
   "source": [
    "%%timeit\n",
    "\n",
    "list = []\n",
    "for count in range(0,10):\n",
    "    if count % 2 == 0:\n",
    "        continue\n",
    "    list.append(count**2)"
   ]
  },
  {
   "cell_type": "code",
   "execution_count": 13,
   "id": "b599891c-6082-4639-ab0b-4b4ad96f31ff",
   "metadata": {},
   "outputs": [
    {
     "name": "stdout",
     "output_type": "stream",
     "text": [
      "10.068594999997003\n"
     ]
    }
   ],
   "source": [
    "import timeit\n",
    "\n",
    "\n",
    "mycode = '''\n",
    "list = []\n",
    "for count in range(0,10):\n",
    "    if count % 2 == 0:\n",
    "        continue\n",
    "    list.append(count**2)\n",
    "'''\n",
    "\n",
    "print (timeit.timeit(stmt = mycode, number = 10000000))"
   ]
  },
  {
   "cell_type": "code",
   "execution_count": 11,
   "id": "cbb07cb0-ff9d-478b-9119-54c5f297c649",
   "metadata": {},
   "outputs": [
    {
     "name": "stdout",
     "output_type": "stream",
     "text": [
      "1.32 µs ± 129 ns per loop (mean ± std. dev. of 7 runs, 1,000,000 loops each)\n"
     ]
    }
   ],
   "source": [
    "%%timeit\n",
    "\n",
    "[number**2 for number in range(0,10)if number%2 != 0]"
   ]
  },
  {
   "cell_type": "code",
   "execution_count": 12,
   "id": "430f81e7-f545-4dfc-a4e6-1c2efcd08303",
   "metadata": {},
   "outputs": [
    {
     "name": "stdout",
     "output_type": "stream",
     "text": [
      "11.419609800002945\n"
     ]
    }
   ],
   "source": [
    "import timeit\n",
    "\n",
    "\n",
    "mycode = '''\n",
    "[number**2 for number in range(0,10)if number%2 != 0]\n",
    "'''\n",
    "\n",
    "print (timeit.timeit(stmt = mycode, number = 10000000))"
   ]
  },
  {
   "cell_type": "markdown",
   "id": "835d29cd-1ba2-46b8-ac95-f804042c64b1",
   "metadata": {},
   "source": [
    "**Exercise 4 (A problem of decay)**\n",
    "\n",
    "The initial quantity of a sample of a radioactive substance is 100 units, and it decays by 5% each year. Use a while loop to determine how long the sample will take to reduce to half its original amount."
   ]
  },
  {
   "cell_type": "code",
   "execution_count": 18,
   "id": "2bbc4767-21d6-4cac-96b1-0cba53d3aee5",
   "metadata": {},
   "outputs": [
    {
     "name": "stdout",
     "output_type": "stream",
     "text": [
      "The radioactive substance takes 14 years to reduce to half its original amount.\n"
     ]
    }
   ],
   "source": [
    "sample = 100\n",
    "year = 0\n",
    "\n",
    "while sample > 50:\n",
    "    year += 1\n",
    "    sample = sample * 95/100\n",
    "\n",
    "print(f\"The radioactive substance takes {year} years to reduce to half its original amount.\")"
   ]
  },
  {
   "cell_type": "markdown",
   "id": "d06d619c-28b2-4c1a-8316-8b839280f0fe",
   "metadata": {},
   "source": [
    "**Exercise 5 (Changes in CO<sub>2</sub>)**\n",
    "\n",
    "The following is data about atmospheric CO<sub>2</sub> levels for several years in a `(year, CO2_level)` format. The units are ppm.\n",
    "\n",
    "Identify those years that showed an increase of CO<sub>2</sub>\n",
    " of 3 ppm or more compared to the previous year.\r\n",
    "Please print out these years along with the corresponding change in concentration."
   ]
  },
  {
   "cell_type": "code",
   "execution_count": 4,
   "id": "d6821d60-11a0-4231-8c59-6954cc5f3993",
   "metadata": {},
   "outputs": [],
   "source": [
    "co2_data = [\n",
    "    (2000, 369.55), (2001, 371.14), (2002, 373.28), \n",
    "    (2003, 375.80), (2004, 377.52), (2005, 379.80), \n",
    "    (2006, 381.90), (2007, 383.79), (2008, 385.60), \n",
    "    (2009, 387.43), (2010, 389.90), (2011, 391.65), \n",
    "    (2012, 393.85), (2013, 396.52), (2014, 398.65),\n",
    "    (2015, 400.83), (2016, 404.24), (2017, 406.55), \n",
    "    (2018, 408.52), (2019, 411.44), (2020, 414.24)\n",
    "]"
   ]
  },
  {
   "cell_type": "code",
   "execution_count": 7,
   "id": "3f23c72e-89fe-4eef-8276-849b23225f08",
   "metadata": {},
   "outputs": [
    {
     "name": "stdout",
     "output_type": "stream",
     "text": [
      "2016 experienced an increase of 3.41 ppm from 2015\n"
     ]
    }
   ],
   "source": [
    "co2_level_1 = 369.55\n",
    "year_1 = 2000\n",
    "increase = 0\n",
    "\n",
    "for year_2, co2_level_2 in co2_data:\n",
    "    increase = co2_level_2 - co2_level_1\n",
    "    if increase >= 3:\n",
    "        print(f\"{year_2} experienced an increase of {increase:.2f} ppm from {year_1}\")\n",
    "    co2_level_1 = co2_level_2\n",
    "    year_1 = year_2"
   ]
  }
 ],
 "metadata": {
  "kernelspec": {
   "display_name": "Python 3 (ipykernel)",
   "language": "python",
   "name": "python3"
  },
  "language_info": {
   "codemirror_mode": {
    "name": "ipython",
    "version": 3
   },
   "file_extension": ".py",
   "mimetype": "text/x-python",
   "name": "python",
   "nbconvert_exporter": "python",
   "pygments_lexer": "ipython3",
   "version": "3.11.5"
  },
  "toc": {
   "base_numbering": 1,
   "nav_menu": {},
   "number_sections": true,
   "sideBar": true,
   "skip_h1_title": false,
   "title_cell": "Table of Contents",
   "title_sidebar": "Contents",
   "toc_cell": false,
   "toc_position": {},
   "toc_section_display": true,
   "toc_window_display": false
  },
  "vscode": {
   "interpreter": {
    "hash": "31f2aee4e71d21fbe5cf8b01ff0e069b9275f58929596ceb00d14d90e3e16cd6"
   }
  }
 },
 "nbformat": 4,
 "nbformat_minor": 5
}
