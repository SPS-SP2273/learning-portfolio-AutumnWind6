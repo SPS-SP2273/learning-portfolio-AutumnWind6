{
 "cells": [
  {
   "attachments": {},
   "cell_type": "markdown",
   "id": "123456",
   "metadata": {},
   "source": [
    "<div style=\"text-align:left;font-size:2em\"><span style=\"font-weight:bolder;font-size:1.25em\">SP2273 | Learning Portfolio</span><br><br><span style=\"font-weight:bold;color:darkred\">Loops (Need) Exercises</span></div>"
   ]
  },
  {
   "cell_type": "markdown",
   "id": "18b83176-8359-48f5-b34a-2c6bc33d1ed2",
   "metadata": {},
   "source": [
    "**Exercise 1 (Celcius to Farenheit)**\n",
    "\n",
    "You are provided with the following list of temperatures in Celsius. Write a quick Python snippet that converts each temperature to Fahrenheit and prints both temperatures."
   ]
  },
  {
   "cell_type": "code",
   "execution_count": 1,
   "id": "858d1b9d-c7ac-4edb-bb28-7efc5679112c",
   "metadata": {},
   "outputs": [],
   "source": [
    "temperatures_celsius = [\n",
    "    0, 5, 10, 15, 20, 25,\n",
    "    30, 35, 40, 45, 50\n",
    "]"
   ]
  },
  {
   "cell_type": "code",
   "execution_count": 10,
   "id": "3aec7fa9-bd5b-4572-a5b4-fff97eef2a74",
   "metadata": {},
   "outputs": [
    {
     "name": "stdout",
     "output_type": "stream",
     "text": [
      "Celsius: 0, Fahrenheit: 32.0\n",
      "Celsius: 5, Fahrenheit: 41.0\n",
      "Celsius: 10, Fahrenheit: 50.0\n",
      "Celsius: 15, Fahrenheit: 59.0\n",
      "Celsius: 20, Fahrenheit: 68.0\n",
      "Celsius: 25, Fahrenheit: 77.0\n",
      "Celsius: 30, Fahrenheit: 86.0\n",
      "Celsius: 35, Fahrenheit: 95.0\n",
      "Celsius: 40, Fahrenheit: 104.0\n",
      "Celsius: 45, Fahrenheit: 113.0\n",
      "Celsius: 50, Fahrenheit: 122.0\n"
     ]
    }
   ],
   "source": [
    "for c in temperatures_celsius:\n",
    "    f = (9/5 * c) + 32\n",
    "    print(f\"Celsius: {c}, Fahrenheit: {f}\")"
   ]
  },
  {
   "cell_type": "markdown",
   "id": "49050d37-25e8-49b7-a882-7a86f0f32feb",
   "metadata": {},
   "source": [
    "**Exercise 2 (Multiplication table)**"
   ]
  },
  {
   "cell_type": "code",
   "execution_count": 3,
   "id": "4809bb3b-6dac-495f-b528-1f23261420d0",
   "metadata": {},
   "outputs": [
    {
     "name": "stdout",
     "output_type": "stream",
     "text": [
      "A1\tA2\tA3\t\n",
      "\n",
      "B1\tB2\tB3\t\n",
      "\n",
      "C1\tC2\tC3\t\n",
      "\n"
     ]
    }
   ],
   "source": [
    "for letter in ['A', 'B', 'C']:\n",
    "    for number in [1, 2, 3]:\n",
    "        print(f'{letter}{number}', end='\\t')\n",
    "    print('\\n')"
   ]
  },
  {
   "cell_type": "markdown",
   "id": "6eb62f95-b0fc-4b78-bd4e-506037cfbc46",
   "metadata": {},
   "source": [
    "Write a Python snippet that prints a multiplication table (up to 5) for numbers 1 through 5 using nested for loops. \n",
    "The output should be formatted as shown below:\n",
    "\n",
    "1 : 1   2   3   4   5   \n",
    "2 : 2   4   6   8   10  \n",
    "3 : 3   6   9   12  15  \n",
    "4 : 4   8   12  16  20  \n",
    "5 : 5   10  15  20  25 "
   ]
  },
  {
   "cell_type": "code",
   "execution_count": 13,
   "id": "3793eca9-61d8-49eb-a89f-606447527e92",
   "metadata": {},
   "outputs": [
    {
     "name": "stdout",
     "output_type": "stream",
     "text": [
      "1 : 1   2   3   4   5   \n",
      "\n",
      "2 : 2   4   6   8   10  \n",
      "\n",
      "3 : 3   6   9   12  15  \n",
      "\n",
      "4 : 4   8   12  16  20  \n",
      "\n",
      "5 : 5   10  15  20  25  \n",
      "\n"
     ]
    }
   ],
   "source": [
    "for count in range(1,6):\n",
    "    print(f\"{count} :\", end=' ')\n",
    "    for i in range(1,6):\n",
    "        multiple = i * count\n",
    "        print(f\"{multiple:<3}\", end=' ')\n",
    "    print('\\n')"
   ]
  }
 ],
 "metadata": {
  "kernelspec": {
   "display_name": "Python 3 (ipykernel)",
   "language": "python",
   "name": "python3"
  },
  "language_info": {
   "codemirror_mode": {
    "name": "ipython",
    "version": 3
   },
   "file_extension": ".py",
   "mimetype": "text/x-python",
   "name": "python",
   "nbconvert_exporter": "python",
   "pygments_lexer": "ipython3",
   "version": "3.11.5"
  },
  "toc": {
   "base_numbering": 1,
   "nav_menu": {},
   "number_sections": true,
   "sideBar": true,
   "skip_h1_title": false,
   "title_cell": "Table of Contents",
   "title_sidebar": "Contents",
   "toc_cell": false,
   "toc_position": {},
   "toc_section_display": true,
   "toc_window_display": false
  },
  "vscode": {
   "interpreter": {
    "hash": "31f2aee4e71d21fbe5cf8b01ff0e069b9275f58929596ceb00d14d90e3e16cd6"
   }
  }
 },
 "nbformat": 4,
 "nbformat_minor": 5
}
