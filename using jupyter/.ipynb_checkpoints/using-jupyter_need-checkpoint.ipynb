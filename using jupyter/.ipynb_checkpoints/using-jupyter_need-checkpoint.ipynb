{
 "cells": [
  {
   "cell_type": "code",
   "execution_count": 8,
   "id": "7d7b60aa-0b56-4561-86e3-023b623b5e9d",
   "metadata": {},
   "outputs": [
    {
     "name": "stdout",
     "output_type": "stream",
     "text": [
      "hi\n",
      "Hello World!\n",
      "hi\n"
     ]
    }
   ],
   "source": [
    "for count in range (3):\n",
    "    if count == 0 or count == 2:\n",
    "        print ('hi')\n",
    "    else:\n",
    "        print (\"Hello World!\")"
   ]
  },
  {
   "cell_type": "markdown",
   "id": "89c4d5e3-b514-45f7-89cd-0de0f638c114",
   "metadata": {},
   "source": [
    "The ships hung in the sky in much the same way that bricks don’t.\n",
    "\n",
    "The ships *hung in the sky* in much the same way that **bricks don't.**<sup>1</sup><sub>QOUTE</sub>\n",
    "\n",
    "```python\n",
    "print(\"Hello World\")\n",
    "```\n"
   ]
  },
  {
   "cell_type": "markdown",
   "id": "dcdc599a-3295-4639-93c7-01116a8ea739",
   "metadata": {},
   "source": [
    "# heading\n",
    "## heading\n",
    "### heading\n",
    "#### heading"
   ]
  },
  {
   "cell_type": "markdown",
   "id": "22550e31-2f9f-4425-a76e-acb3d3f63633",
   "metadata": {},
   "source": [
    "[SP2273 Website](https://sps.nus.edu.sg/sp2273)"
   ]
  },
  {
   "cell_type": "markdown",
   "id": "16cef2b2-4f6c-4190-a200-22cf81e98e2e",
   "metadata": {},
   "source": [
    "![](https://nus.edu.sg/images/default-source/base/logo.png)"
   ]
  },
  {
   "cell_type": "markdown",
   "id": "f5789c13-e9c1-4064-9921-ddfc96414d64",
   "metadata": {},
   "source": [
    "| A    |  B   |    C |\n",
    "| :--- | :--: | ---: |\n",
    "| a1   |  b1  |   c1 |\n",
    "| a2   |  b2  |   c2 |\n",
    "| a3   |  b3  |   c3 |"
   ]
  },
  {
   "cell_type": "markdown",
   "id": "7901c118-bdb9-4465-9db3-0ca5eaaa680d",
   "metadata": {},
   "source": [
    "1. hi\n",
    "3. hi\n",
    "4. hi\n",
    "\n",
    "- hi\n",
    "- hi\n",
    "- hi\n",
    "\n",
    "1. HI\n",
    "   - hi\n",
    "1. HI\n",
    "   - hi"
   ]
  },
  {
   "cell_type": "markdown",
   "id": "0f504898-a424-411b-9eec-4a9ea4f66716",
   "metadata": {},
   "source": [
    "$$\n",
    "x = \\dfrac{-b \\pm \\sqrt{b^2-4ac}}{2a}\n",
    "$$"
   ]
  }
 ],
 "metadata": {
  "kernelspec": {
   "display_name": "Python 3 (ipykernel)",
   "language": "python",
   "name": "python3"
  },
  "language_info": {
   "codemirror_mode": {
    "name": "ipython",
    "version": 3
   },
   "file_extension": ".py",
   "mimetype": "text/x-python",
   "name": "python",
   "nbconvert_exporter": "python",
   "pygments_lexer": "ipython3",
   "version": "3.11.5"
  }
 },
 "nbformat": 4,
 "nbformat_minor": 5
}
