{
 "cells": [
  {
   "attachments": {},
   "cell_type": "markdown",
   "id": "123456",
   "metadata": {},
   "source": [
    "<div style=\"text-align:left;font-size:2em\"><span style=\"font-weight:bolder;font-size:1.25em\">SP2273 | Learning Portfolio</span><br><br><span style=\"font-weight:bold;color:darkred\">Fundamentals (Nice)</span></div>"
   ]
  },
  {
   "attachments": {},
   "cell_type": "markdown",
   "id": "1cf778c4",
   "metadata": {},
   "source": [
    "# 1 If if is not enough"
   ]
  },
  {
   "cell_type": "code",
   "execution_count": 4,
   "id": "fdff315d-c82e-4dcb-b709-b5fd6123ae6c",
   "metadata": {},
   "outputs": [
    {
     "name": "stdout",
     "output_type": "stream",
     "text": [
      "Hello Hero | Batman!\n"
     ]
    }
   ],
   "source": [
    "name = 'Batman'\n",
    "# using if and elif\n",
    "if name == 'Batman':\n",
    "    print('Hello Hero | Batman!')\n",
    "elif name == 'Robin':\n",
    "    print('Hello Sidekick | Robin!')\n",
    "else:\n",
    "    print('Hello World!')"
   ]
  },
  {
   "cell_type": "code",
   "execution_count": 5,
   "id": "b23d8795-43b6-4efb-b580-084a39d37b01",
   "metadata": {},
   "outputs": [
    {
     "name": "stdout",
     "output_type": "stream",
     "text": [
      "Hello Hero | Batman!\n"
     ]
    }
   ],
   "source": [
    "name = 'Batman'\n",
    "#using match case\n",
    "match name:\n",
    "    case 'Batman':\n",
    "        print('Hello Hero | Batman!')\n",
    "    case 'Robin':\n",
    "        print('Hello Sidekick | Robin!')\n",
    "    case _:\n",
    "        print('Hello World!')"
   ]
  },
  {
   "attachments": {},
   "cell_type": "markdown",
   "id": "1ddb9226",
   "metadata": {},
   "source": [
    "# 2 Ternary operators or Conditional Statements"
   ]
  },
  {
   "cell_type": "code",
   "execution_count": 22,
   "id": "114a981c-df4b-4af9-9414-2a937d4d82ac",
   "metadata": {},
   "outputs": [
    {
     "name": "stdout",
     "output_type": "stream",
     "text": [
      "Bonjour!\n",
      "Bonjour!\n",
      "Hello!\n"
     ]
    }
   ],
   "source": [
    "nationality = 'French'\n",
    "\n",
    "if nationality == 'French':\n",
    "    greeting = \"Bonjour!\"\n",
    "else:\n",
    "    greeting = \"Hello!\"\n",
    "\n",
    "print(greeting)\n",
    "\n",
    "greeting = \"Bonjour!\" if nationality == 'French' else \"Hello!\"  #alternative 1\n",
    "print(greeting)\n",
    "\n",
    "print((\"Bonjour!\", \"Hello!\")[nationality == 'French'])          #alternative 2, first option is for false (0), second option is true (1) "
   ]
  },
  {
   "cell_type": "code",
   "execution_count": 16,
   "id": "d2d5f73a-43c5-4f81-83c4-334389bb1692",
   "metadata": {},
   "outputs": [
    {
     "name": "stdout",
     "output_type": "stream",
     "text": [
      "No message!\n"
     ]
    }
   ],
   "source": [
    "text = None\n",
    "message = text or \"No message!\"\n",
    "print (message)"
   ]
  },
  {
   "attachments": {},
   "cell_type": "markdown",
   "id": "052db900",
   "metadata": {},
   "source": [
    "# 3 Swapping values"
   ]
  },
  {
   "cell_type": "code",
   "execution_count": 17,
   "id": "a47c63f0-ce3e-4dba-9c67-13ff31c9fa73",
   "metadata": {},
   "outputs": [
    {
     "name": "stdout",
     "output_type": "stream",
     "text": [
      "2 1\n"
     ]
    }
   ],
   "source": [
    "a, b = 1, 2\n",
    "a, b = b, a\n",
    "print(a, b)"
   ]
  },
  {
   "attachments": {},
   "cell_type": "markdown",
   "id": "5d8b3965",
   "metadata": {},
   "source": [
    "# 4 There are more types"
   ]
  },
  {
   "cell_type": "code",
   "execution_count": 21,
   "id": "7a908a8e-150c-4388-a653-637522eaf553",
   "metadata": {},
   "outputs": [
    {
     "name": "stdout",
     "output_type": "stream",
     "text": [
      "float          : 2.220446049250313e-16\n",
      "float16        : 0.000977\n",
      "float32        : 1.1920929e-07\n",
      "float64        : 2.220446049250313e-16\n",
      "longdouble     : 2.220446049250313e-16\n"
     ]
    }
   ],
   "source": [
    "import numpy as np\n",
    "\n",
    "my_types = [\n",
    "    float,       # Default for core Python on my machine\n",
    "    np.float16,\n",
    "    np.float32,\n",
    "    np.float64,\n",
    "    #np.float128\n",
    "    np.longdouble\n",
    "]\n",
    "\n",
    "for my_type in my_types:\n",
    "    print(f'{my_type.__name__:<15s}:', np.finfo(my_type).eps)"
   ]
  },
  {
   "attachments": {},
   "cell_type": "markdown",
   "id": "a9c5203d",
   "metadata": {},
   "source": [
    "# 5 Operator precedance"
   ]
  },
  {
   "cell_type": "markdown",
   "id": "2d168cb5-206d-41cb-bab3-7d587e2e7adf",
   "metadata": {},
   "source": [
    "1. Highest precedence at the top, lowest at the bottom.\n",
    "2. Operators in the same box evaluate left to right. (Reproduced from this website)\n",
    "\n",
    "|Description\t|Operator|\n",
    "| :---| :--- |\n",
    "|Parentheses(grouping)\t|()|\n",
    "|Function call\t|f(args...)|\n",
    "|Slicing\t|x[index:index]|\n",
    "|Subscription|\tx[index]|\n",
    "|Attribute reference|\tx.attribute|\n",
    "|Exponentiation\t|**|\n",
    "|Bitwise not\t|~x|\n",
    "|Positive, negative|\t+x, -x|\n",
    "|Multiplication, division, remainder|\t*, / ,%|\n",
    "|Addition, subtraction|\t+, -|\n",
    "|Bitwise shifts|\t<<, >>|\n",
    "|Bitwise AND\t|&|\n",
    "|Bitwise XOR\t|^|\n",
    "|Bitwise OR\t|\\||\n",
    "|Comparisons, membership, identity\tin, not in, is, is not, |<, <=, >, >=, <>, !=, ==|\n",
    "|Boolean NOT\t|not x|\n",
    "|Boolean AND\t|and|\n",
    "|Boolean OR\t|or|\n",
    "|Lambda expression\t|lambda|"
   ]
  },
  {
   "attachments": {},
   "cell_type": "markdown",
   "id": "42e7d42c",
   "metadata": {},
   "source": [
    "# 6 Variables in Python are just names"
   ]
  },
  {
   "attachments": {},
   "cell_type": "markdown",
   "id": "dc9519f7",
   "metadata": {},
   "source": [
    "## 6.1 The Problem"
   ]
  },
  {
   "cell_type": "code",
   "execution_count": 23,
   "id": "ff6dd556-464a-466d-9b86-be24e0160297",
   "metadata": {},
   "outputs": [
    {
     "name": "stdout",
     "output_type": "stream",
     "text": [
      "x: [1, 2, 3], y: [1, 2, 3]\n"
     ]
    }
   ],
   "source": [
    "x = [1, 2]\n",
    "y = x\n",
    "y.append(3)\n",
    "\n",
    "print(f\"x: {x}, y: {y}\")"
   ]
  },
  {
   "attachments": {},
   "cell_type": "markdown",
   "id": "1279a51f",
   "metadata": {},
   "source": [
    "## 6.2 An explanation"
   ]
  },
  {
   "cell_type": "code",
   "execution_count": 28,
   "id": "6681ea75-93d7-4acc-b0d0-1b41d9f7da32",
   "metadata": {},
   "outputs": [
    {
     "name": "stdout",
     "output_type": "stream",
     "text": [
      "x: 140723849630504, y: 140723849630504, 1: 140723849630504\n"
     ]
    }
   ],
   "source": [
    "'''CODE 1'''\n",
    "x = 1\n",
    "y = 1\n",
    "\n",
    "print(f\"x: {id(x)}, y: {id(y)}, 1: {id(1)}\") \n",
    "\n",
    "#x and y is bound to object 1"
   ]
  },
  {
   "cell_type": "code",
   "execution_count": 30,
   "id": "832103c9-daa9-4b3f-bba8-2707ab7b5ed3",
   "metadata": {},
   "outputs": [
    {
     "name": "stdout",
     "output_type": "stream",
     "text": [
      "x: 140723849630504, y: 140723849630536\n",
      "1: 140723849630504, 2: 140723849630536\n"
     ]
    }
   ],
   "source": [
    "x = 1\n",
    "y = x + 1\n",
    "\n",
    "print(f\"x: {id(x)}, y: {id(y)}\")\n",
    "\n",
    "\n",
    "print(f\"1: {id(1)}, 2: {id(2)}\")\n",
    "\n",
    "#x is bound to object 1 and y is bound to object 2\n"
   ]
  },
  {
   "cell_type": "code",
   "execution_count": 27,
   "id": "bc22f7ed-28c1-47ab-911f-608da575fc2e",
   "metadata": {},
   "outputs": [
    {
     "name": "stdout",
     "output_type": "stream",
     "text": [
      "x: [1, 2, 3], y: [1, 2, 3]\n"
     ]
    }
   ],
   "source": [
    "# x is bound to a list object with a value [1 ,2]\n",
    "x = [1, 2]\n",
    "\n",
    "# y is bound to the SAME list object with a value [1 ,2]\n",
    "y = x\n",
    "\n",
    "# y is used to change the value of the object from  [1, 2] to [1, 2, 3]\n",
    "y.append(3)\n",
    "\n",
    "print(f\"x: {x}, y: {y}\")"
   ]
  },
  {
   "attachments": {},
   "cell_type": "markdown",
   "id": "74cf228f",
   "metadata": {},
   "source": [
    "## 6.3 A solution"
   ]
  },
  {
   "cell_type": "code",
   "execution_count": 33,
   "id": "0a364c77-be00-449d-aff2-9fc10ff18a12",
   "metadata": {},
   "outputs": [
    {
     "name": "stdout",
     "output_type": "stream",
     "text": [
      "x: [1, 2], y: [1, 2, 3]\n",
      "x: 2975811288192, y: 2975811288320\n"
     ]
    }
   ],
   "source": [
    "x = [1,2]\n",
    "y = x.copy()\n",
    "y.append(3)\n",
    "\n",
    "print(f\"x: {x}, y: {y}\")\n",
    "print(f\"x: {id(x)}, y: {id(y)}\")"
   ]
  },
  {
   "attachments": {},
   "cell_type": "markdown",
   "id": "efadb48e",
   "metadata": {},
   "source": [
    "# 7 == is not the same as is"
   ]
  },
  {
   "cell_type": "markdown",
   "id": "4f13feeb-690d-4ef8-8498-25890ecf5057",
   "metadata": {},
   "source": [
    "Python has several ways of comparing ‘items’. == and is are two examples. Here is the difference between them:\n",
    "\n",
    "'x is y' checks for identity. i. e., it asks if x and y are bound to the same object by comparing the ID.\n",
    "\n",
    "'x == y' checks for equality by running a function that checks for equality (such as _eq_ of a class)."
   ]
  },
  {
   "attachments": {},
   "cell_type": "markdown",
   "id": "e6b02f32",
   "metadata": {},
   "source": [
    "## Footnotes"
   ]
  }
 ],
 "metadata": {
  "kernelspec": {
   "display_name": "Python 3 (ipykernel)",
   "language": "python",
   "name": "python3"
  },
  "language_info": {
   "codemirror_mode": {
    "name": "ipython",
    "version": 3
   },
   "file_extension": ".py",
   "mimetype": "text/x-python",
   "name": "python",
   "nbconvert_exporter": "python",
   "pygments_lexer": "ipython3",
   "version": "3.11.5"
  },
  "toc": {
   "base_numbering": 1,
   "nav_menu": {},
   "number_sections": true,
   "sideBar": true,
   "skip_h1_title": false,
   "title_cell": "Table of Contents",
   "title_sidebar": "Contents",
   "toc_cell": false,
   "toc_position": {},
   "toc_section_display": true,
   "toc_window_display": false
  },
  "vscode": {
   "interpreter": {
    "hash": "31f2aee4e71d21fbe5cf8b01ff0e069b9275f58929596ceb00d14d90e3e16cd6"
   }
  }
 },
 "nbformat": 4,
 "nbformat_minor": 5
}
